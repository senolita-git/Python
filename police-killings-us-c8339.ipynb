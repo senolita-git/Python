{
 "cells": [
  {
   "cell_type": "markdown",
   "metadata": {
    "id": "xSwVOspA2Zin"
   },
   "source": [
    "# WITH PANDAS AND MATPLOTLIB"
   ]
  },
  {
   "cell_type": "code",
   "execution_count": 62,
   "metadata": {
    "_cell_guid": "5fdcd462-5466-40f5-9992-dc31a9a174f2",
    "_uuid": "dab5021d92c7210270cec270470e4ae179a1de01",
    "id": "22qiZVq32Zir"
   },
   "outputs": [],
   "source": [
    "import numpy as np \n",
    "import pandas as pd\n",
    "import seaborn as sns\n",
    "import matplotlib.pyplot as plt\n",
    "from collections import Counter\n",
    "import warnings\n",
    "warnings.filterwarnings('ignore') "
   ]
  },
  {
   "cell_type": "markdown",
   "metadata": {
    "id": "Rsu0y4Ha2Zit"
   },
   "source": [
    "INSTRUCTIONS\n",
    "\n",
    "1. Number of people by gender\n",
    "1. Kill weapon\n",
    "1. Age of killed people\n",
    "1. Race of killed people\n",
    "1. Killed People According to Races (Pie Chart)\n",
    "1. Most common 15 Name or Surname of killed people\n",
    "\n",
    "<br>"
   ]
  },
  {
   "cell_type": "markdown",
   "metadata": {
    "id": "OTDjgwf53tr5"
   },
   "source": [
    "read data\n",
    "\n",
    "if didn't work you can use this parameters: encoding=\"windows-1252\""
   ]
  },
  {
   "cell_type": "code",
   "execution_count": 61,
   "metadata": {
    "_cell_guid": "abb0685f-f844-43f8-84c0-4cd54361c7bf",
    "_uuid": "9c06ed7c41db79ae9d940f2d52aeff23621b3037",
    "id": "NYz5lAPp2Ziu"
   },
   "outputs": [
    {
     "data": {
      "text/html": [
       "<div>\n",
       "<style scoped>\n",
       "    .dataframe tbody tr th:only-of-type {\n",
       "        vertical-align: middle;\n",
       "    }\n",
       "\n",
       "    .dataframe tbody tr th {\n",
       "        vertical-align: top;\n",
       "    }\n",
       "\n",
       "    .dataframe thead th {\n",
       "        text-align: right;\n",
       "    }\n",
       "</style>\n",
       "<table border=\"1\" class=\"dataframe\">\n",
       "  <thead>\n",
       "    <tr style=\"text-align: right;\">\n",
       "      <th></th>\n",
       "      <th>id</th>\n",
       "      <th>name</th>\n",
       "      <th>date</th>\n",
       "      <th>manner_of_death</th>\n",
       "      <th>armed</th>\n",
       "      <th>age</th>\n",
       "      <th>gender</th>\n",
       "      <th>race</th>\n",
       "      <th>city</th>\n",
       "      <th>state</th>\n",
       "      <th>signs_of_mental_illness</th>\n",
       "      <th>threat_level</th>\n",
       "      <th>flee</th>\n",
       "      <th>body_camera</th>\n",
       "    </tr>\n",
       "  </thead>\n",
       "  <tbody>\n",
       "    <tr>\n",
       "      <th>0</th>\n",
       "      <td>3</td>\n",
       "      <td>Tim Elliot</td>\n",
       "      <td>02/01/15</td>\n",
       "      <td>shot</td>\n",
       "      <td>gun</td>\n",
       "      <td>53.0</td>\n",
       "      <td>M</td>\n",
       "      <td>A</td>\n",
       "      <td>Shelton</td>\n",
       "      <td>WA</td>\n",
       "      <td>True</td>\n",
       "      <td>attack</td>\n",
       "      <td>Not fleeing</td>\n",
       "      <td>False</td>\n",
       "    </tr>\n",
       "    <tr>\n",
       "      <th>1</th>\n",
       "      <td>4</td>\n",
       "      <td>Lewis Lee Lembke</td>\n",
       "      <td>02/01/15</td>\n",
       "      <td>shot</td>\n",
       "      <td>gun</td>\n",
       "      <td>47.0</td>\n",
       "      <td>M</td>\n",
       "      <td>W</td>\n",
       "      <td>Aloha</td>\n",
       "      <td>OR</td>\n",
       "      <td>False</td>\n",
       "      <td>attack</td>\n",
       "      <td>Not fleeing</td>\n",
       "      <td>False</td>\n",
       "    </tr>\n",
       "    <tr>\n",
       "      <th>2</th>\n",
       "      <td>5</td>\n",
       "      <td>John Paul Quintero</td>\n",
       "      <td>03/01/15</td>\n",
       "      <td>shot and Tasered</td>\n",
       "      <td>unarmed</td>\n",
       "      <td>23.0</td>\n",
       "      <td>M</td>\n",
       "      <td>H</td>\n",
       "      <td>Wichita</td>\n",
       "      <td>KS</td>\n",
       "      <td>False</td>\n",
       "      <td>other</td>\n",
       "      <td>Not fleeing</td>\n",
       "      <td>False</td>\n",
       "    </tr>\n",
       "    <tr>\n",
       "      <th>3</th>\n",
       "      <td>8</td>\n",
       "      <td>Matthew Hoffman</td>\n",
       "      <td>04/01/15</td>\n",
       "      <td>shot</td>\n",
       "      <td>toy weapon</td>\n",
       "      <td>32.0</td>\n",
       "      <td>M</td>\n",
       "      <td>W</td>\n",
       "      <td>San Francisco</td>\n",
       "      <td>CA</td>\n",
       "      <td>True</td>\n",
       "      <td>attack</td>\n",
       "      <td>Not fleeing</td>\n",
       "      <td>False</td>\n",
       "    </tr>\n",
       "    <tr>\n",
       "      <th>4</th>\n",
       "      <td>9</td>\n",
       "      <td>Michael Rodriguez</td>\n",
       "      <td>04/01/15</td>\n",
       "      <td>shot</td>\n",
       "      <td>nail gun</td>\n",
       "      <td>39.0</td>\n",
       "      <td>M</td>\n",
       "      <td>H</td>\n",
       "      <td>Evans</td>\n",
       "      <td>CO</td>\n",
       "      <td>False</td>\n",
       "      <td>attack</td>\n",
       "      <td>Not fleeing</td>\n",
       "      <td>False</td>\n",
       "    </tr>\n",
       "  </tbody>\n",
       "</table>\n",
       "</div>"
      ],
      "text/plain": [
       "   id                name      date   manner_of_death       armed   age  \\\n",
       "0   3          Tim Elliot  02/01/15              shot         gun  53.0   \n",
       "1   4    Lewis Lee Lembke  02/01/15              shot         gun  47.0   \n",
       "2   5  John Paul Quintero  03/01/15  shot and Tasered     unarmed  23.0   \n",
       "3   8     Matthew Hoffman  04/01/15              shot  toy weapon  32.0   \n",
       "4   9   Michael Rodriguez  04/01/15              shot    nail gun  39.0   \n",
       "\n",
       "  gender race           city state  signs_of_mental_illness threat_level  \\\n",
       "0      M    A        Shelton    WA                     True       attack   \n",
       "1      M    W          Aloha    OR                    False       attack   \n",
       "2      M    H        Wichita    KS                    False        other   \n",
       "3      M    W  San Francisco    CA                     True       attack   \n",
       "4      M    H          Evans    CO                    False       attack   \n",
       "\n",
       "          flee  body_camera  \n",
       "0  Not fleeing        False  \n",
       "1  Not fleeing        False  \n",
       "2  Not fleeing        False  \n",
       "3  Not fleeing        False  \n",
       "4  Not fleeing        False  "
      ]
     },
     "execution_count": 61,
     "metadata": {},
     "output_type": "execute_result"
    }
   ],
   "source": [
    "data = pd.read_csv(\"PoliceKillingsUs.csv\")\n",
    "data.head()"
   ]
  },
  {
   "cell_type": "markdown",
   "metadata": {
    "id": "wMFloMjW2Zi8"
   },
   "source": [
    "## 1: Plot number of people by gender"
   ]
  },
  {
   "cell_type": "code",
   "execution_count": null,
   "metadata": {
    "colab": {
     "base_uri": "https://localhost:8080/",
     "height": 307
    },
    "executionInfo": {
     "elapsed": 12,
     "status": "ok",
     "timestamp": 1622926983505,
     "user": {
      "displayName": "Thomas Rico",
      "photoUrl": "",
      "userId": "03459133432310094050"
     },
     "user_tz": -180
    },
    "id": "g73Ix7402Zi9",
    "outputId": "3cc46e86-dfdd-46ef-b738-e1f0f1dd6d82"
   },
   "outputs": [
    {
     "data": {
      "text/html": [
       "<div>\n",
       "<style scoped>\n",
       "    .dataframe tbody tr th:only-of-type {\n",
       "        vertical-align: middle;\n",
       "    }\n",
       "\n",
       "    .dataframe tbody tr th {\n",
       "        vertical-align: top;\n",
       "    }\n",
       "\n",
       "    .dataframe thead th {\n",
       "        text-align: right;\n",
       "    }\n",
       "</style>\n",
       "<table border=\"1\" class=\"dataframe\">\n",
       "  <thead>\n",
       "    <tr style=\"text-align: right;\">\n",
       "      <th></th>\n",
       "      <th>id</th>\n",
       "      <th>name</th>\n",
       "      <th>date</th>\n",
       "      <th>manner_of_death</th>\n",
       "      <th>armed</th>\n",
       "      <th>age</th>\n",
       "      <th>gender</th>\n",
       "      <th>race</th>\n",
       "      <th>city</th>\n",
       "      <th>state</th>\n",
       "      <th>signs_of_mental_illness</th>\n",
       "      <th>threat_level</th>\n",
       "      <th>flee</th>\n",
       "      <th>body_camera</th>\n",
       "    </tr>\n",
       "  </thead>\n",
       "  <tbody>\n",
       "    <tr>\n",
       "      <th>0</th>\n",
       "      <td>3</td>\n",
       "      <td>Tim Elliot</td>\n",
       "      <td>02/01/15</td>\n",
       "      <td>shot</td>\n",
       "      <td>gun</td>\n",
       "      <td>53.0</td>\n",
       "      <td>M</td>\n",
       "      <td>A</td>\n",
       "      <td>Shelton</td>\n",
       "      <td>WA</td>\n",
       "      <td>True</td>\n",
       "      <td>attack</td>\n",
       "      <td>Not fleeing</td>\n",
       "      <td>False</td>\n",
       "    </tr>\n",
       "    <tr>\n",
       "      <th>1</th>\n",
       "      <td>4</td>\n",
       "      <td>Lewis Lee Lembke</td>\n",
       "      <td>02/01/15</td>\n",
       "      <td>shot</td>\n",
       "      <td>gun</td>\n",
       "      <td>47.0</td>\n",
       "      <td>M</td>\n",
       "      <td>W</td>\n",
       "      <td>Aloha</td>\n",
       "      <td>OR</td>\n",
       "      <td>False</td>\n",
       "      <td>attack</td>\n",
       "      <td>Not fleeing</td>\n",
       "      <td>False</td>\n",
       "    </tr>\n",
       "    <tr>\n",
       "      <th>2</th>\n",
       "      <td>5</td>\n",
       "      <td>John Paul Quintero</td>\n",
       "      <td>03/01/15</td>\n",
       "      <td>shot and Tasered</td>\n",
       "      <td>unarmed</td>\n",
       "      <td>23.0</td>\n",
       "      <td>M</td>\n",
       "      <td>H</td>\n",
       "      <td>Wichita</td>\n",
       "      <td>KS</td>\n",
       "      <td>False</td>\n",
       "      <td>other</td>\n",
       "      <td>Not fleeing</td>\n",
       "      <td>False</td>\n",
       "    </tr>\n",
       "    <tr>\n",
       "      <th>3</th>\n",
       "      <td>8</td>\n",
       "      <td>Matthew Hoffman</td>\n",
       "      <td>04/01/15</td>\n",
       "      <td>shot</td>\n",
       "      <td>toy weapon</td>\n",
       "      <td>32.0</td>\n",
       "      <td>M</td>\n",
       "      <td>W</td>\n",
       "      <td>San Francisco</td>\n",
       "      <td>CA</td>\n",
       "      <td>True</td>\n",
       "      <td>attack</td>\n",
       "      <td>Not fleeing</td>\n",
       "      <td>False</td>\n",
       "    </tr>\n",
       "    <tr>\n",
       "      <th>4</th>\n",
       "      <td>9</td>\n",
       "      <td>Michael Rodriguez</td>\n",
       "      <td>04/01/15</td>\n",
       "      <td>shot</td>\n",
       "      <td>nail gun</td>\n",
       "      <td>39.0</td>\n",
       "      <td>M</td>\n",
       "      <td>H</td>\n",
       "      <td>Evans</td>\n",
       "      <td>CO</td>\n",
       "      <td>False</td>\n",
       "      <td>attack</td>\n",
       "      <td>Not fleeing</td>\n",
       "      <td>False</td>\n",
       "    </tr>\n",
       "  </tbody>\n",
       "</table>\n",
       "</div>"
      ],
      "text/plain": [
       "   id                name      date  ... threat_level         flee  body_camera\n",
       "0   3          Tim Elliot  02/01/15  ...       attack  Not fleeing        False\n",
       "1   4    Lewis Lee Lembke  02/01/15  ...       attack  Not fleeing        False\n",
       "2   5  John Paul Quintero  03/01/15  ...        other  Not fleeing        False\n",
       "3   8     Matthew Hoffman  04/01/15  ...       attack  Not fleeing        False\n",
       "4   9   Michael Rodriguez  04/01/15  ...       attack  Not fleeing        False\n",
       "\n",
       "[5 rows x 14 columns]"
      ]
     },
     "execution_count": 3,
     "metadata": {
      "tags": []
     },
     "output_type": "execute_result"
    }
   ],
   "source": []
  },
  {
   "cell_type": "code",
   "execution_count": 91,
   "metadata": {},
   "outputs": [
    {
     "data": {
      "image/png": "[encoded data removed]",
      "text/plain": [
       "<Figure size 432x288 with 1 Axes>"
      ]
     },
     "metadata": {
      "needs_background": "light"
     },
     "output_type": "display_data"
    }
   ],
   "source": [
    "a = data.gender.value_counts()\n",
    "a\n",
    "plot = a.plot(kind=\"bar\", title =\"Gender Distribution\")\n",
    "for i in plot.patches:\n",
    "    plot.annotate((i.get_height()), (i.get_x()+0.2, i.get_height()+1))\n"
   ]
  },
  {
   "cell_type": "code",
   "execution_count": null,
   "metadata": {
    "colab": {
     "base_uri": "https://localhost:8080/",
     "height": 282
    },
    "executionInfo": {
     "elapsed": 472,
     "status": "ok",
     "timestamp": 1622926983971,
     "user": {
      "displayName": "Thomas Rico",
      "photoUrl": "",
      "userId": "03459133432310094050"
     },
     "user_tz": -180
    },
    "id": "9l_gl3On2Zi9",
    "outputId": "1ed7b4da-1d76-40e4-cbab-d5afba9a34aa"
   },
   "outputs": [
    {
     "data": {
      "image/png": "[encoded data removed]",
      "text/plain": [
       "<Figure size 432x288 with 1 Axes>"
      ]
     },
     "metadata": {
      "needs_background": "light",
      "tags": []
     },
     "output_type": "display_data"
    }
   ],
   "source": [
    "# with pandas\n",
    "\n"
   ]
  },
  {
   "cell_type": "code",
   "execution_count": 176,
   "metadata": {},
   "outputs": [
    {
     "data": {
      "image/png": "[encoded data removed]",
      "text/plain": [
       "<Figure size 432x288 with 1 Axes>"
      ]
     },
     "metadata": {
      "needs_background": "light"
     },
     "output_type": "display_data"
    }
   ],
   "source": [
    "gender=data.gender.unique()\n",
    "fig, ax = plt.subplots()\n",
    "plt.title(\"Gender Distribution\", fontsize=15)\n",
    "new_plot= ax.bar(gender,a)\n",
    "for i in new_plot.patches:\n",
    "    height = i.get_height()\n",
    "    ax.text(i.get_x() + i.get_width()/2., 1*height,'%d' % int(height), ha='center', va='bottom');"
   ]
  },
  {
   "cell_type": "code",
   "execution_count": null,
   "metadata": {
    "colab": {
     "base_uri": "https://localhost:8080/",
     "height": 283
    },
    "executionInfo": {
     "elapsed": 14,
     "status": "ok",
     "timestamp": 1622926983973,
     "user": {
      "displayName": "Thomas Rico",
      "photoUrl": "",
      "userId": "03459133432310094050"
     },
     "user_tz": -180
    },
    "id": "KtJXC38R2Zi9",
    "outputId": "99c4a881-e389-4469-984c-31d6b2bf67a2"
   },
   "outputs": [
    {
     "data": {
      "image/png": "[encoded data removed]",
      "text/plain": [
       "<Figure size 432x288 with 1 Axes>"
      ]
     },
     "metadata": {
      "needs_background": "light",
      "tags": []
     },
     "output_type": "display_data"
    }
   ],
   "source": [
    "# with matplotlib\n"
   ]
  },
  {
   "cell_type": "markdown",
   "metadata": {
    "id": "3CDiN8a22Zi9"
   },
   "source": [
    "## 2: Plot 7 most common kill weapons"
   ]
  },
  {
   "cell_type": "code",
   "execution_count": 262,
   "metadata": {},
   "outputs": [
    {
     "data": {
      "text/plain": [
       "gun               1398\n",
       "knife              373\n",
       "vehicle            177\n",
       "unarmed            171\n",
       "undetermined       117\n",
       "toy weapon         104\n",
       "unknown weapon      18\n",
       "Name: armed, dtype: int64"
      ]
     },
     "execution_count": 262,
     "metadata": {},
     "output_type": "execute_result"
    }
   ],
   "source": [
    "weapon = data.armed.value_counts().head(7)\n",
    "weapon"
   ]
  },
  {
   "cell_type": "code",
   "execution_count": null,
   "metadata": {
    "colab": {
     "base_uri": "https://localhost:8080/"
    },
    "executionInfo": {
     "elapsed": 14,
     "status": "ok",
     "timestamp": 1622926983974,
     "user": {
      "displayName": "Thomas Rico",
      "photoUrl": "",
      "userId": "03459133432310094050"
     },
     "user_tz": -180
    },
    "id": "BAU2H77b2Zi9",
    "outputId": "a893d160-7464-448d-de16-6e4399c36a75"
   },
   "outputs": [
    {
     "data": {
      "text/plain": [
       "gun               1398\n",
       "knife              373\n",
       "vehicle            177\n",
       "unarmed            171\n",
       "undetermined       117\n",
       "toy weapon         104\n",
       "unknown weapon      18\n",
       "Name: armed, dtype: int64"
      ]
     },
     "execution_count": 6,
     "metadata": {
      "tags": []
     },
     "output_type": "execute_result"
    }
   ],
   "source": []
  },
  {
   "cell_type": "code",
   "execution_count": 414,
   "metadata": {},
   "outputs": [
    {
     "data": {
      "image/png": "[encoded data removed]",
      "text/plain": [
       "<Figure size 576x360 with 1 Axes>"
      ]
     },
     "metadata": {
      "needs_background": "light"
     },
     "output_type": "display_data"
    }
   ],
   "source": [
    "weapon_plot = weapon.plot(kind=\"bar\",figsize=(8,5))\n",
    "plt.xticks(rotation=45)\n",
    "for i in weapon_plot.patches:\n",
    "    weapon_plot.annotate((i.get_height()), (i.get_x()+0.1, i.get_height()+1));"
   ]
  },
  {
   "cell_type": "code",
   "execution_count": null,
   "metadata": {
    "colab": {
     "base_uri": "https://localhost:8080/",
     "height": 379
    },
    "executionInfo": {
     "elapsed": 12,
     "status": "ok",
     "timestamp": 1622926983975,
     "user": {
      "displayName": "Thomas Rico",
      "photoUrl": "",
      "userId": "03459133432310094050"
     },
     "user_tz": -180
    },
    "id": "WznuMe522Zi-",
    "outputId": "aa03186c-558b-4fa2-f7e0-471d827565c0"
   },
   "outputs": [
    {
     "data": {
      "image/png": "[encoded data removed]",
      "text/plain": [
       "<Figure size 576x360 with 1 Axes>"
      ]
     },
     "metadata": {
      "needs_background": "light",
      "tags": []
     },
     "output_type": "display_data"
    }
   ],
   "source": [
    "# with pandas\n"
   ]
  },
  {
   "cell_type": "code",
   "execution_count": 276,
   "metadata": {},
   "outputs": [
    {
     "data": {
      "text/plain": [
       "['gun',\n",
       " 'knife',\n",
       " 'vehicle',\n",
       " 'unarmed',\n",
       " 'undetermined',\n",
       " 'toy weapon',\n",
       " 'unknown weapon']"
      ]
     },
     "execution_count": 276,
     "metadata": {},
     "output_type": "execute_result"
    }
   ],
   "source": [
    "armed_values =list(weapon.index.unique())\n",
    "armed_values"
   ]
  },
  {
   "cell_type": "code",
   "execution_count": 282,
   "metadata": {},
   "outputs": [
    {
     "data": {
      "image/png": "[encoded data removed]",
      "text/plain": [
       "<Figure size 576x360 with 1 Axes>"
      ]
     },
     "metadata": {
      "needs_background": "light"
     },
     "output_type": "display_data"
    }
   ],
   "source": [
    "fig, ax = plt.subplots(figsize=(8,5))\n",
    "armed_plot=ax.bar(armed_values,weapon)\n",
    "plt.xticks(rotation=45)\n",
    "for i in armed_plot.patches:\n",
    "    height = i.get_height()\n",
    "    ax.text(i.get_x() + i.get_width()/2., 1*height,'%d' % int(height), ha='center', va='bottom');"
   ]
  },
  {
   "cell_type": "code",
   "execution_count": null,
   "metadata": {
    "colab": {
     "base_uri": "https://localhost:8080/",
     "height": 379
    },
    "executionInfo": {
     "elapsed": 408,
     "status": "ok",
     "timestamp": 1622926984372,
     "user": {
      "displayName": "Thomas Rico",
      "photoUrl": "",
      "userId": "03459133432310094050"
     },
     "user_tz": -180
    },
    "id": "v6AvLOw82Zi-",
    "outputId": "b0539d81-1511-4ec4-b5dd-4160319f2096"
   },
   "outputs": [
    {
     "data": {
      "image/png": "[encoded data removed]",
      "text/plain": [
       "<Figure size 576x360 with 1 Axes>"
      ]
     },
     "metadata": {
      "needs_background": "light",
      "tags": []
     },
     "output_type": "display_data"
    }
   ],
   "source": [
    "# with matplotlib\n"
   ]
  },
  {
   "cell_type": "markdown",
   "metadata": {
    "id": "GqXH5Xag2Zi-"
   },
   "source": [
    "## 3: Plot number of age of killed people under two groups : Under 25 and Above 25"
   ]
  },
  {
   "cell_type": "code",
   "execution_count": 320,
   "metadata": {},
   "outputs": [
    {
     "data": {
      "text/html": [
       "<div>\n",
       "<style scoped>\n",
       "    .dataframe tbody tr th:only-of-type {\n",
       "        vertical-align: middle;\n",
       "    }\n",
       "\n",
       "    .dataframe tbody tr th {\n",
       "        vertical-align: top;\n",
       "    }\n",
       "\n",
       "    .dataframe thead th {\n",
       "        text-align: right;\n",
       "    }\n",
       "</style>\n",
       "<table border=\"1\" class=\"dataframe\">\n",
       "  <thead>\n",
       "    <tr style=\"text-align: right;\">\n",
       "      <th></th>\n",
       "      <th>id</th>\n",
       "      <th>name</th>\n",
       "      <th>date</th>\n",
       "      <th>manner_of_death</th>\n",
       "      <th>armed</th>\n",
       "      <th>age</th>\n",
       "      <th>gender</th>\n",
       "      <th>race</th>\n",
       "      <th>city</th>\n",
       "      <th>state</th>\n",
       "      <th>signs_of_mental_illness</th>\n",
       "      <th>threat_level</th>\n",
       "      <th>flee</th>\n",
       "      <th>body_camera</th>\n",
       "    </tr>\n",
       "  </thead>\n",
       "  <tbody>\n",
       "    <tr>\n",
       "      <th>0</th>\n",
       "      <td>3</td>\n",
       "      <td>Tim Elliot</td>\n",
       "      <td>02/01/15</td>\n",
       "      <td>shot</td>\n",
       "      <td>gun</td>\n",
       "      <td>53.0</td>\n",
       "      <td>M</td>\n",
       "      <td>A</td>\n",
       "      <td>Shelton</td>\n",
       "      <td>WA</td>\n",
       "      <td>True</td>\n",
       "      <td>attack</td>\n",
       "      <td>Not fleeing</td>\n",
       "      <td>False</td>\n",
       "    </tr>\n",
       "    <tr>\n",
       "      <th>1</th>\n",
       "      <td>4</td>\n",
       "      <td>Lewis Lee Lembke</td>\n",
       "      <td>02/01/15</td>\n",
       "      <td>shot</td>\n",
       "      <td>gun</td>\n",
       "      <td>47.0</td>\n",
       "      <td>M</td>\n",
       "      <td>W</td>\n",
       "      <td>Aloha</td>\n",
       "      <td>OR</td>\n",
       "      <td>False</td>\n",
       "      <td>attack</td>\n",
       "      <td>Not fleeing</td>\n",
       "      <td>False</td>\n",
       "    </tr>\n",
       "    <tr>\n",
       "      <th>2</th>\n",
       "      <td>5</td>\n",
       "      <td>John Paul Quintero</td>\n",
       "      <td>03/01/15</td>\n",
       "      <td>shot and Tasered</td>\n",
       "      <td>unarmed</td>\n",
       "      <td>23.0</td>\n",
       "      <td>M</td>\n",
       "      <td>H</td>\n",
       "      <td>Wichita</td>\n",
       "      <td>KS</td>\n",
       "      <td>False</td>\n",
       "      <td>other</td>\n",
       "      <td>Not fleeing</td>\n",
       "      <td>False</td>\n",
       "    </tr>\n",
       "    <tr>\n",
       "      <th>3</th>\n",
       "      <td>8</td>\n",
       "      <td>Matthew Hoffman</td>\n",
       "      <td>04/01/15</td>\n",
       "      <td>shot</td>\n",
       "      <td>toy weapon</td>\n",
       "      <td>32.0</td>\n",
       "      <td>M</td>\n",
       "      <td>W</td>\n",
       "      <td>San Francisco</td>\n",
       "      <td>CA</td>\n",
       "      <td>True</td>\n",
       "      <td>attack</td>\n",
       "      <td>Not fleeing</td>\n",
       "      <td>False</td>\n",
       "    </tr>\n",
       "    <tr>\n",
       "      <th>4</th>\n",
       "      <td>9</td>\n",
       "      <td>Michael Rodriguez</td>\n",
       "      <td>04/01/15</td>\n",
       "      <td>shot</td>\n",
       "      <td>nail gun</td>\n",
       "      <td>39.0</td>\n",
       "      <td>M</td>\n",
       "      <td>H</td>\n",
       "      <td>Evans</td>\n",
       "      <td>CO</td>\n",
       "      <td>False</td>\n",
       "      <td>attack</td>\n",
       "      <td>Not fleeing</td>\n",
       "      <td>False</td>\n",
       "    </tr>\n",
       "  </tbody>\n",
       "</table>\n",
       "</div>"
      ],
      "text/plain": [
       "   id                name      date   manner_of_death       armed   age  \\\n",
       "0   3          Tim Elliot  02/01/15              shot         gun  53.0   \n",
       "1   4    Lewis Lee Lembke  02/01/15              shot         gun  47.0   \n",
       "2   5  John Paul Quintero  03/01/15  shot and Tasered     unarmed  23.0   \n",
       "3   8     Matthew Hoffman  04/01/15              shot  toy weapon  32.0   \n",
       "4   9   Michael Rodriguez  04/01/15              shot    nail gun  39.0   \n",
       "\n",
       "  gender race           city state  signs_of_mental_illness threat_level  \\\n",
       "0      M    A        Shelton    WA                     True       attack   \n",
       "1      M    W          Aloha    OR                    False       attack   \n",
       "2      M    H        Wichita    KS                    False        other   \n",
       "3      M    W  San Francisco    CA                     True       attack   \n",
       "4      M    H          Evans    CO                    False       attack   \n",
       "\n",
       "          flee  body_camera  \n",
       "0  Not fleeing        False  \n",
       "1  Not fleeing        False  \n",
       "2  Not fleeing        False  \n",
       "3  Not fleeing        False  \n",
       "4  Not fleeing        False  "
      ]
     },
     "execution_count": 320,
     "metadata": {},
     "output_type": "execute_result"
    }
   ],
   "source": [
    "data[(data[\"age\"]>25) & data[\"age\"]<25].head()"
   ]
  },
  {
   "cell_type": "code",
   "execution_count": null,
   "metadata": {
    "colab": {
     "base_uri": "https://localhost:8080/",
     "height": 307
    },
    "executionInfo": {
     "elapsed": 13,
     "status": "ok",
     "timestamp": 1622926984372,
     "user": {
      "displayName": "Thomas Rico",
      "photoUrl": "",
      "userId": "03459133432310094050"
     },
     "user_tz": -180
    },
    "id": "V4mng-vC2Zi-",
    "outputId": "01c48c2d-3344-4b26-ff0b-632378fb59f2"
   },
   "outputs": [
    {
     "data": {
      "text/html": [
       "<div>\n",
       "<style scoped>\n",
       "    .dataframe tbody tr th:only-of-type {\n",
       "        vertical-align: middle;\n",
       "    }\n",
       "\n",
       "    .dataframe tbody tr th {\n",
       "        vertical-align: top;\n",
       "    }\n",
       "\n",
       "    .dataframe thead th {\n",
       "        text-align: right;\n",
       "    }\n",
       "</style>\n",
       "<table border=\"1\" class=\"dataframe\">\n",
       "  <thead>\n",
       "    <tr style=\"text-align: right;\">\n",
       "      <th></th>\n",
       "      <th>id</th>\n",
       "      <th>name</th>\n",
       "      <th>date</th>\n",
       "      <th>manner_of_death</th>\n",
       "      <th>armed</th>\n",
       "      <th>age</th>\n",
       "      <th>gender</th>\n",
       "      <th>race</th>\n",
       "      <th>city</th>\n",
       "      <th>state</th>\n",
       "      <th>signs_of_mental_illness</th>\n",
       "      <th>threat_level</th>\n",
       "      <th>flee</th>\n",
       "      <th>body_camera</th>\n",
       "    </tr>\n",
       "  </thead>\n",
       "  <tbody>\n",
       "    <tr>\n",
       "      <th>0</th>\n",
       "      <td>3</td>\n",
       "      <td>Tim Elliot</td>\n",
       "      <td>02/01/15</td>\n",
       "      <td>shot</td>\n",
       "      <td>gun</td>\n",
       "      <td>53.0</td>\n",
       "      <td>M</td>\n",
       "      <td>A</td>\n",
       "      <td>Shelton</td>\n",
       "      <td>WA</td>\n",
       "      <td>True</td>\n",
       "      <td>attack</td>\n",
       "      <td>Not fleeing</td>\n",
       "      <td>False</td>\n",
       "    </tr>\n",
       "    <tr>\n",
       "      <th>1</th>\n",
       "      <td>4</td>\n",
       "      <td>Lewis Lee Lembke</td>\n",
       "      <td>02/01/15</td>\n",
       "      <td>shot</td>\n",
       "      <td>gun</td>\n",
       "      <td>47.0</td>\n",
       "      <td>M</td>\n",
       "      <td>W</td>\n",
       "      <td>Aloha</td>\n",
       "      <td>OR</td>\n",
       "      <td>False</td>\n",
       "      <td>attack</td>\n",
       "      <td>Not fleeing</td>\n",
       "      <td>False</td>\n",
       "    </tr>\n",
       "    <tr>\n",
       "      <th>2</th>\n",
       "      <td>5</td>\n",
       "      <td>John Paul Quintero</td>\n",
       "      <td>03/01/15</td>\n",
       "      <td>shot and Tasered</td>\n",
       "      <td>unarmed</td>\n",
       "      <td>23.0</td>\n",
       "      <td>M</td>\n",
       "      <td>H</td>\n",
       "      <td>Wichita</td>\n",
       "      <td>KS</td>\n",
       "      <td>False</td>\n",
       "      <td>other</td>\n",
       "      <td>Not fleeing</td>\n",
       "      <td>False</td>\n",
       "    </tr>\n",
       "    <tr>\n",
       "      <th>3</th>\n",
       "      <td>8</td>\n",
       "      <td>Matthew Hoffman</td>\n",
       "      <td>04/01/15</td>\n",
       "      <td>shot</td>\n",
       "      <td>toy weapon</td>\n",
       "      <td>32.0</td>\n",
       "      <td>M</td>\n",
       "      <td>W</td>\n",
       "      <td>San Francisco</td>\n",
       "      <td>CA</td>\n",
       "      <td>True</td>\n",
       "      <td>attack</td>\n",
       "      <td>Not fleeing</td>\n",
       "      <td>False</td>\n",
       "    </tr>\n",
       "    <tr>\n",
       "      <th>4</th>\n",
       "      <td>9</td>\n",
       "      <td>Michael Rodriguez</td>\n",
       "      <td>04/01/15</td>\n",
       "      <td>shot</td>\n",
       "      <td>nail gun</td>\n",
       "      <td>39.0</td>\n",
       "      <td>M</td>\n",
       "      <td>H</td>\n",
       "      <td>Evans</td>\n",
       "      <td>CO</td>\n",
       "      <td>False</td>\n",
       "      <td>attack</td>\n",
       "      <td>Not fleeing</td>\n",
       "      <td>False</td>\n",
       "    </tr>\n",
       "  </tbody>\n",
       "</table>\n",
       "</div>"
      ],
      "text/plain": [
       "   id                name      date  ... threat_level         flee  body_camera\n",
       "0   3          Tim Elliot  02/01/15  ...       attack  Not fleeing        False\n",
       "1   4    Lewis Lee Lembke  02/01/15  ...       attack  Not fleeing        False\n",
       "2   5  John Paul Quintero  03/01/15  ...        other  Not fleeing        False\n",
       "3   8     Matthew Hoffman  04/01/15  ...       attack  Not fleeing        False\n",
       "4   9   Michael Rodriguez  04/01/15  ...       attack  Not fleeing        False\n",
       "\n",
       "[5 rows x 14 columns]"
      ]
     },
     "execution_count": 9,
     "metadata": {
      "tags": []
     },
     "output_type": "execute_result"
    }
   ],
   "source": []
  },
  {
   "cell_type": "code",
   "execution_count": 400,
   "metadata": {
    "scrolled": true
   },
   "outputs": [
    {
     "data": {
      "text/html": [
       "<div>\n",
       "<style scoped>\n",
       "    .dataframe tbody tr th:only-of-type {\n",
       "        vertical-align: middle;\n",
       "    }\n",
       "\n",
       "    .dataframe tbody tr th {\n",
       "        vertical-align: top;\n",
       "    }\n",
       "\n",
       "    .dataframe thead th {\n",
       "        text-align: right;\n",
       "    }\n",
       "</style>\n",
       "<table border=\"1\" class=\"dataframe\">\n",
       "  <thead>\n",
       "    <tr style=\"text-align: right;\">\n",
       "      <th></th>\n",
       "      <th>id</th>\n",
       "      <th>name</th>\n",
       "      <th>date</th>\n",
       "      <th>manner_of_death</th>\n",
       "      <th>armed</th>\n",
       "      <th>age</th>\n",
       "      <th>gender</th>\n",
       "      <th>race</th>\n",
       "      <th>city</th>\n",
       "      <th>state</th>\n",
       "      <th>signs_of_mental_illness</th>\n",
       "      <th>threat_level</th>\n",
       "      <th>flee</th>\n",
       "      <th>body_camera</th>\n",
       "      <th>age_cat</th>\n",
       "    </tr>\n",
       "  </thead>\n",
       "  <tbody>\n",
       "    <tr>\n",
       "      <th>0</th>\n",
       "      <td>3</td>\n",
       "      <td>Tim Elliot</td>\n",
       "      <td>02/01/15</td>\n",
       "      <td>shot</td>\n",
       "      <td>gun</td>\n",
       "      <td>53.0</td>\n",
       "      <td>M</td>\n",
       "      <td>A</td>\n",
       "      <td>Shelton</td>\n",
       "      <td>WA</td>\n",
       "      <td>True</td>\n",
       "      <td>attack</td>\n",
       "      <td>Not fleeing</td>\n",
       "      <td>False</td>\n",
       "      <td>above25</td>\n",
       "    </tr>\n",
       "    <tr>\n",
       "      <th>1</th>\n",
       "      <td>4</td>\n",
       "      <td>Lewis Lee Lembke</td>\n",
       "      <td>02/01/15</td>\n",
       "      <td>shot</td>\n",
       "      <td>gun</td>\n",
       "      <td>47.0</td>\n",
       "      <td>M</td>\n",
       "      <td>W</td>\n",
       "      <td>Aloha</td>\n",
       "      <td>OR</td>\n",
       "      <td>False</td>\n",
       "      <td>attack</td>\n",
       "      <td>Not fleeing</td>\n",
       "      <td>False</td>\n",
       "      <td>above25</td>\n",
       "    </tr>\n",
       "    <tr>\n",
       "      <th>2</th>\n",
       "      <td>5</td>\n",
       "      <td>John Paul Quintero</td>\n",
       "      <td>03/01/15</td>\n",
       "      <td>shot and Tasered</td>\n",
       "      <td>unarmed</td>\n",
       "      <td>23.0</td>\n",
       "      <td>M</td>\n",
       "      <td>H</td>\n",
       "      <td>Wichita</td>\n",
       "      <td>KS</td>\n",
       "      <td>False</td>\n",
       "      <td>other</td>\n",
       "      <td>Not fleeing</td>\n",
       "      <td>False</td>\n",
       "      <td>below25</td>\n",
       "    </tr>\n",
       "    <tr>\n",
       "      <th>3</th>\n",
       "      <td>8</td>\n",
       "      <td>Matthew Hoffman</td>\n",
       "      <td>04/01/15</td>\n",
       "      <td>shot</td>\n",
       "      <td>toy weapon</td>\n",
       "      <td>32.0</td>\n",
       "      <td>M</td>\n",
       "      <td>W</td>\n",
       "      <td>San Francisco</td>\n",
       "      <td>CA</td>\n",
       "      <td>True</td>\n",
       "      <td>attack</td>\n",
       "      <td>Not fleeing</td>\n",
       "      <td>False</td>\n",
       "      <td>above25</td>\n",
       "    </tr>\n",
       "    <tr>\n",
       "      <th>4</th>\n",
       "      <td>9</td>\n",
       "      <td>Michael Rodriguez</td>\n",
       "      <td>04/01/15</td>\n",
       "      <td>shot</td>\n",
       "      <td>nail gun</td>\n",
       "      <td>39.0</td>\n",
       "      <td>M</td>\n",
       "      <td>H</td>\n",
       "      <td>Evans</td>\n",
       "      <td>CO</td>\n",
       "      <td>False</td>\n",
       "      <td>attack</td>\n",
       "      <td>Not fleeing</td>\n",
       "      <td>False</td>\n",
       "      <td>above25</td>\n",
       "    </tr>\n",
       "  </tbody>\n",
       "</table>\n",
       "</div>"
      ],
      "text/plain": [
       "   id                name      date   manner_of_death       armed   age  \\\n",
       "0   3          Tim Elliot  02/01/15              shot         gun  53.0   \n",
       "1   4    Lewis Lee Lembke  02/01/15              shot         gun  47.0   \n",
       "2   5  John Paul Quintero  03/01/15  shot and Tasered     unarmed  23.0   \n",
       "3   8     Matthew Hoffman  04/01/15              shot  toy weapon  32.0   \n",
       "4   9   Michael Rodriguez  04/01/15              shot    nail gun  39.0   \n",
       "\n",
       "  gender race           city state  signs_of_mental_illness threat_level  \\\n",
       "0      M    A        Shelton    WA                     True       attack   \n",
       "1      M    W          Aloha    OR                    False       attack   \n",
       "2      M    H        Wichita    KS                    False        other   \n",
       "3      M    W  San Francisco    CA                     True       attack   \n",
       "4      M    H          Evans    CO                    False       attack   \n",
       "\n",
       "          flee  body_camera  age_cat  \n",
       "0  Not fleeing        False  above25  \n",
       "1  Not fleeing        False  above25  \n",
       "2  Not fleeing        False  below25  \n",
       "3  Not fleeing        False  above25  \n",
       "4  Not fleeing        False  above25  "
      ]
     },
     "execution_count": 400,
     "metadata": {},
     "output_type": "execute_result"
    }
   ],
   "source": [
    "age_list = []\n",
    "for i in data[\"age\"]:\n",
    "    if i>25:\n",
    "        age_list.append(\"above25\")\n",
    "    else:\n",
    "        age_list.append(\"below25\")\n",
    "data[\"age_cat\"] = age_list\n",
    "data.head()"
   ]
  },
  {
   "cell_type": "code",
   "execution_count": null,
   "metadata": {
    "colab": {
     "base_uri": "https://localhost:8080/",
     "height": 307
    },
    "executionInfo": {
     "elapsed": 11,
     "status": "ok",
     "timestamp": 1622926984373,
     "user": {
      "displayName": "Thomas Rico",
      "photoUrl": "",
      "userId": "03459133432310094050"
     },
     "user_tz": -180
    },
    "id": "DJzAOutV2Zi-",
    "outputId": "f1188a5c-2a2a-4cbd-b01e-751d47905f8f",
    "scrolled": true
   },
   "outputs": [
    {
     "data": {
      "text/html": [
       "<div>\n",
       "<style scoped>\n",
       "    .dataframe tbody tr th:only-of-type {\n",
       "        vertical-align: middle;\n",
       "    }\n",
       "\n",
       "    .dataframe tbody tr th {\n",
       "        vertical-align: top;\n",
       "    }\n",
       "\n",
       "    .dataframe thead th {\n",
       "        text-align: right;\n",
       "    }\n",
       "</style>\n",
       "<table border=\"1\" class=\"dataframe\">\n",
       "  <thead>\n",
       "    <tr style=\"text-align: right;\">\n",
       "      <th></th>\n",
       "      <th>id</th>\n",
       "      <th>name</th>\n",
       "      <th>date</th>\n",
       "      <th>manner_of_death</th>\n",
       "      <th>armed</th>\n",
       "      <th>age</th>\n",
       "      <th>gender</th>\n",
       "      <th>race</th>\n",
       "      <th>city</th>\n",
       "      <th>state</th>\n",
       "      <th>signs_of_mental_illness</th>\n",
       "      <th>threat_level</th>\n",
       "      <th>flee</th>\n",
       "      <th>body_camera</th>\n",
       "      <th>age_cat</th>\n",
       "    </tr>\n",
       "  </thead>\n",
       "  <tbody>\n",
       "    <tr>\n",
       "      <th>0</th>\n",
       "      <td>3</td>\n",
       "      <td>Tim Elliot</td>\n",
       "      <td>02/01/15</td>\n",
       "      <td>shot</td>\n",
       "      <td>gun</td>\n",
       "      <td>53.0</td>\n",
       "      <td>M</td>\n",
       "      <td>A</td>\n",
       "      <td>Shelton</td>\n",
       "      <td>WA</td>\n",
       "      <td>True</td>\n",
       "      <td>attack</td>\n",
       "      <td>Not fleeing</td>\n",
       "      <td>False</td>\n",
       "      <td>above25</td>\n",
       "    </tr>\n",
       "    <tr>\n",
       "      <th>1</th>\n",
       "      <td>4</td>\n",
       "      <td>Lewis Lee Lembke</td>\n",
       "      <td>02/01/15</td>\n",
       "      <td>shot</td>\n",
       "      <td>gun</td>\n",
       "      <td>47.0</td>\n",
       "      <td>M</td>\n",
       "      <td>W</td>\n",
       "      <td>Aloha</td>\n",
       "      <td>OR</td>\n",
       "      <td>False</td>\n",
       "      <td>attack</td>\n",
       "      <td>Not fleeing</td>\n",
       "      <td>False</td>\n",
       "      <td>above25</td>\n",
       "    </tr>\n",
       "    <tr>\n",
       "      <th>2</th>\n",
       "      <td>5</td>\n",
       "      <td>John Paul Quintero</td>\n",
       "      <td>03/01/15</td>\n",
       "      <td>shot and Tasered</td>\n",
       "      <td>unarmed</td>\n",
       "      <td>23.0</td>\n",
       "      <td>M</td>\n",
       "      <td>H</td>\n",
       "      <td>Wichita</td>\n",
       "      <td>KS</td>\n",
       "      <td>False</td>\n",
       "      <td>other</td>\n",
       "      <td>Not fleeing</td>\n",
       "      <td>False</td>\n",
       "      <td>below25</td>\n",
       "    </tr>\n",
       "    <tr>\n",
       "      <th>3</th>\n",
       "      <td>8</td>\n",
       "      <td>Matthew Hoffman</td>\n",
       "      <td>04/01/15</td>\n",
       "      <td>shot</td>\n",
       "      <td>toy weapon</td>\n",
       "      <td>32.0</td>\n",
       "      <td>M</td>\n",
       "      <td>W</td>\n",
       "      <td>San Francisco</td>\n",
       "      <td>CA</td>\n",
       "      <td>True</td>\n",
       "      <td>attack</td>\n",
       "      <td>Not fleeing</td>\n",
       "      <td>False</td>\n",
       "      <td>above25</td>\n",
       "    </tr>\n",
       "    <tr>\n",
       "      <th>4</th>\n",
       "      <td>9</td>\n",
       "      <td>Michael Rodriguez</td>\n",
       "      <td>04/01/15</td>\n",
       "      <td>shot</td>\n",
       "      <td>nail gun</td>\n",
       "      <td>39.0</td>\n",
       "      <td>M</td>\n",
       "      <td>H</td>\n",
       "      <td>Evans</td>\n",
       "      <td>CO</td>\n",
       "      <td>False</td>\n",
       "      <td>attack</td>\n",
       "      <td>Not fleeing</td>\n",
       "      <td>False</td>\n",
       "      <td>above25</td>\n",
       "    </tr>\n",
       "  </tbody>\n",
       "</table>\n",
       "</div>"
      ],
      "text/plain": [
       "   id                name      date  ...         flee body_camera  age_cat\n",
       "0   3          Tim Elliot  02/01/15  ...  Not fleeing       False  above25\n",
       "1   4    Lewis Lee Lembke  02/01/15  ...  Not fleeing       False  above25\n",
       "2   5  John Paul Quintero  03/01/15  ...  Not fleeing       False  below25\n",
       "3   8     Matthew Hoffman  04/01/15  ...  Not fleeing       False  above25\n",
       "4   9   Michael Rodriguez  04/01/15  ...  Not fleeing       False  above25\n",
       "\n",
       "[5 rows x 15 columns]"
      ]
     },
     "execution_count": 11,
     "metadata": {
      "tags": []
     },
     "output_type": "execute_result"
    }
   ],
   "source": []
  },
  {
   "cell_type": "code",
   "execution_count": 403,
   "metadata": {},
   "outputs": [
    {
     "data": {
      "text/plain": [
       "above25    1905\n",
       "below25     630\n",
       "Name: age_cat, dtype: int64"
      ]
     },
     "execution_count": 403,
     "metadata": {},
     "output_type": "execute_result"
    }
   ],
   "source": [
    "agecount = data.age_cat.value_counts()\n",
    "agecount"
   ]
  },
  {
   "cell_type": "code",
   "execution_count": null,
   "metadata": {
    "colab": {
     "base_uri": "https://localhost:8080/"
    },
    "executionInfo": {
     "elapsed": 10,
     "status": "ok",
     "timestamp": 1622926984373,
     "user": {
      "displayName": "Thomas Rico",
      "photoUrl": "",
      "userId": "03459133432310094050"
     },
     "user_tz": -180
    },
    "id": "fSQ8BTUD2Zi_",
    "outputId": "89645134-4eb3-4034-bb3d-e446399aaad0"
   },
   "outputs": [
    {
     "data": {
      "text/plain": [
       "above25    1905\n",
       "below25     630\n",
       "Name: age_cat, dtype: int64"
      ]
     },
     "execution_count": 12,
     "metadata": {
      "tags": []
     },
     "output_type": "execute_result"
    }
   ],
   "source": []
  },
  {
   "cell_type": "code",
   "execution_count": 408,
   "metadata": {},
   "outputs": [
    {
     "data": {
      "image/png": "[encoded data removed]",
      "text/plain": [
       "<Figure size 432x288 with 1 Axes>"
      ]
     },
     "metadata": {
      "needs_background": "light"
     },
     "output_type": "display_data"
    }
   ],
   "source": [
    "age_plt = agecount.plot(kind=\"bar\")\n",
    "plt.xticks(rotation=90)\n",
    "for i in age_plt.patches:\n",
    "    age_plt.annotate((i.get_height()), (i.get_x()+0.2, i.get_height()+1));"
   ]
  },
  {
   "cell_type": "code",
   "execution_count": null,
   "metadata": {
    "colab": {
     "base_uri": "https://localhost:8080/",
     "height": 302
    },
    "executionInfo": {
     "elapsed": 10,
     "status": "ok",
     "timestamp": 1622926985007,
     "user": {
      "displayName": "Thomas Rico",
      "photoUrl": "",
      "userId": "03459133432310094050"
     },
     "user_tz": -180
    },
    "id": "O5TT5DGG2Zi_",
    "outputId": "c052b208-6dbd-4f6e-c8a9-63df71c610ee"
   },
   "outputs": [
    {
     "data": {
      "image/png": "[encoded data removed]",
      "text/plain": [
       "<Figure size 432x288 with 1 Axes>"
      ]
     },
     "metadata": {
      "needs_background": "light",
      "tags": []
     },
     "output_type": "display_data"
    }
   ],
   "source": [
    "# with pandas\n"
   ]
  },
  {
   "cell_type": "code",
   "execution_count": 415,
   "metadata": {},
   "outputs": [
    {
     "data": {
      "image/png": "[encoded data removed]",
      "text/plain": [
       "<Figure size 432x288 with 1 Axes>"
      ]
     },
     "metadata": {
      "needs_background": "light"
     },
     "output_type": "display_data"
    }
   ],
   "source": [
    "twentyfive=data.age_cat.unique()\n",
    "fig, ax = plt.subplots()\n",
    "age_plot= ax.bar(twentyfive,agecount)\n",
    "for i in age_plot.patches:\n",
    "    height = i.get_height()\n",
    "    ax.text(i.get_x() + i.get_width()/2., 1*height,'%d' % int(height), ha='center', va='bottom');"
   ]
  },
  {
   "cell_type": "code",
   "execution_count": null,
   "metadata": {
    "colab": {
     "base_uri": "https://localhost:8080/",
     "height": 269
    },
    "executionInfo": {
     "elapsed": 10,
     "status": "ok",
     "timestamp": 1622926985008,
     "user": {
      "displayName": "Thomas Rico",
      "photoUrl": "",
      "userId": "03459133432310094050"
     },
     "user_tz": -180
    },
    "id": "gpOukiYx2Zi_",
    "outputId": "84b257d1-14e1-4bef-d6a4-08cf0a236acb"
   },
   "outputs": [
    {
     "data": {
      "image/png": "[encoded data removed]",
      "text/plain": [
       "<Figure size 432x288 with 1 Axes>"
      ]
     },
     "metadata": {
      "needs_background": "light",
      "tags": []
     },
     "output_type": "display_data"
    }
   ],
   "source": [
    "# with matplotlib\n"
   ]
  },
  {
   "cell_type": "markdown",
   "metadata": {
    "id": "SZ-wps772Zi_"
   },
   "source": [
    "## 4: Plot number of killed poeple by race"
   ]
  },
  {
   "cell_type": "code",
   "execution_count": 418,
   "metadata": {},
   "outputs": [
    {
     "data": {
      "text/plain": [
       "W    1201\n",
       "B     618\n",
       "H     423\n",
       "A      39\n",
       "N      31\n",
       "O      28\n",
       "Name: race, dtype: int64"
      ]
     },
     "execution_count": 418,
     "metadata": {},
     "output_type": "execute_result"
    }
   ],
   "source": [
    "race_count = data.race.value_counts()\n",
    "race_count"
   ]
  },
  {
   "cell_type": "code",
   "execution_count": null,
   "metadata": {
    "colab": {
     "base_uri": "https://localhost:8080/"
    },
    "executionInfo": {
     "elapsed": 10,
     "status": "ok",
     "timestamp": 1622926985009,
     "user": {
      "displayName": "Thomas Rico",
      "photoUrl": "",
      "userId": "03459133432310094050"
     },
     "user_tz": -180
    },
    "id": "Uqh-Od7X2Zi_",
    "outputId": "9d3da4ed-bc38-45c9-a66f-7d5ba5fb9f5c"
   },
   "outputs": [
    {
     "data": {
      "text/plain": [
       "W    1201\n",
       "B     618\n",
       "H     423\n",
       "A      39\n",
       "N      31\n",
       "O      28\n",
       "Name: race, dtype: int64"
      ]
     },
     "execution_count": 15,
     "metadata": {
      "tags": []
     },
     "output_type": "execute_result"
    }
   ],
   "source": []
  },
  {
   "cell_type": "code",
   "execution_count": 427,
   "metadata": {},
   "outputs": [
    {
     "data": {
      "image/png": "[encoded data removed]",
      "text/plain": [
       "<Figure size 432x288 with 1 Axes>"
      ]
     },
     "metadata": {
      "needs_background": "light"
     },
     "output_type": "display_data"
    }
   ],
   "source": [
    "race_plt = race_count.plot(kind=\"bar\")\n",
    "plt.title(\"Race of killed people\",fontsize=16,color=\"blue\")\n",
    "plt.xticks(rotation=90);"
   ]
  },
  {
   "cell_type": "code",
   "execution_count": null,
   "metadata": {
    "colab": {
     "base_uri": "https://localhost:8080/",
     "height": 283
    },
    "executionInfo": {
     "elapsed": 7,
     "status": "ok",
     "timestamp": 1622926985009,
     "user": {
      "displayName": "Thomas Rico",
      "photoUrl": "",
      "userId": "03459133432310094050"
     },
     "user_tz": -180
    },
    "id": "-q2lckGI2ZjA",
    "outputId": "aeed5936-fc89-4370-cdc2-1be0f9c5dcca"
   },
   "outputs": [
    {
     "data": {
      "image/png": "[encoded data removed]",
      "text/plain": [
       "<Figure size 432x288 with 1 Axes>"
      ]
     },
     "metadata": {
      "needs_background": "light",
      "tags": []
     },
     "output_type": "display_data"
    }
   ],
   "source": [
    "# with pandas\n"
   ]
  },
  {
   "cell_type": "code",
   "execution_count": 476,
   "metadata": {},
   "outputs": [
    {
     "data": {
      "image/png": "[encoded data removed]",
      "text/plain": [
       "<Figure size 432x288 with 1 Axes>"
      ]
     },
     "metadata": {
      "needs_background": "light"
     },
     "output_type": "display_data"
    }
   ],
   "source": [
    "data.race.fillna(0, inplace=True) #nan değer var\n",
    "new = list(race_unique)\n",
    "new.remove(0)\n",
    "new\n",
    "fig, ax = plt.subplots()\n",
    "race_plot= ax.bar(new,race_count)\n",
    "plt.title(\"Race of killed people\", fontsize=16, color=\"blue\");"
   ]
  },
  {
   "cell_type": "code",
   "execution_count": null,
   "metadata": {
    "colab": {
     "base_uri": "https://localhost:8080/",
     "height": 283
    },
    "executionInfo": {
     "elapsed": 754,
     "status": "ok",
     "timestamp": 1622926985756,
     "user": {
      "displayName": "Thomas Rico",
      "photoUrl": "",
      "userId": "03459133432310094050"
     },
     "user_tz": -180
    },
    "id": "Bb16OmdB2ZjA",
    "outputId": "7e601245-42a2-4547-8d3f-8151bc5a1005"
   },
   "outputs": [
    {
     "data": {
      "image/png": "[encoded data removed]",
      "text/plain": [
       "<Figure size 432x288 with 1 Axes>"
      ]
     },
     "metadata": {
      "needs_background": "light",
      "tags": []
     },
     "output_type": "display_data"
    }
   ],
   "source": [
    "# with matplotlib\n"
   ]
  },
  {
   "cell_type": "code",
   "execution_count": null,
   "metadata": {
    "id": "o7z6kXmQ-EPT"
   },
   "outputs": [],
   "source": []
  },
  {
   "cell_type": "markdown",
   "metadata": {
    "id": "9pGSRTxe-l5B"
   },
   "source": [
    "## 5: Killed People According to Races (Pie Chart)"
   ]
  },
  {
   "cell_type": "code",
   "execution_count": null,
   "metadata": {
    "colab": {
     "base_uri": "https://localhost:8080/",
     "height": 307
    },
    "executionInfo": {
     "elapsed": 52,
     "status": "ok",
     "timestamp": 1622926985757,
     "user": {
      "displayName": "Thomas Rico",
      "photoUrl": "",
      "userId": "03459133432310094050"
     },
     "user_tz": -180
    },
    "id": "gq_OO4tB-l5E",
    "outputId": "0a45ca8f-7df9-4b85-d72f-8b0d4115561c"
   },
   "outputs": [
    {
     "data": {
      "text/html": [
       "<div>\n",
       "<style scoped>\n",
       "    .dataframe tbody tr th:only-of-type {\n",
       "        vertical-align: middle;\n",
       "    }\n",
       "\n",
       "    .dataframe tbody tr th {\n",
       "        vertical-align: top;\n",
       "    }\n",
       "\n",
       "    .dataframe thead th {\n",
       "        text-align: right;\n",
       "    }\n",
       "</style>\n",
       "<table border=\"1\" class=\"dataframe\">\n",
       "  <thead>\n",
       "    <tr style=\"text-align: right;\">\n",
       "      <th></th>\n",
       "      <th>id</th>\n",
       "      <th>name</th>\n",
       "      <th>date</th>\n",
       "      <th>manner_of_death</th>\n",
       "      <th>armed</th>\n",
       "      <th>age</th>\n",
       "      <th>gender</th>\n",
       "      <th>race</th>\n",
       "      <th>city</th>\n",
       "      <th>state</th>\n",
       "      <th>signs_of_mental_illness</th>\n",
       "      <th>threat_level</th>\n",
       "      <th>flee</th>\n",
       "      <th>body_camera</th>\n",
       "      <th>age_cat</th>\n",
       "    </tr>\n",
       "  </thead>\n",
       "  <tbody>\n",
       "    <tr>\n",
       "      <th>0</th>\n",
       "      <td>3</td>\n",
       "      <td>Tim Elliot</td>\n",
       "      <td>02/01/15</td>\n",
       "      <td>shot</td>\n",
       "      <td>gun</td>\n",
       "      <td>53.0</td>\n",
       "      <td>M</td>\n",
       "      <td>A</td>\n",
       "      <td>Shelton</td>\n",
       "      <td>WA</td>\n",
       "      <td>True</td>\n",
       "      <td>attack</td>\n",
       "      <td>Not fleeing</td>\n",
       "      <td>False</td>\n",
       "      <td>above25</td>\n",
       "    </tr>\n",
       "    <tr>\n",
       "      <th>1</th>\n",
       "      <td>4</td>\n",
       "      <td>Lewis Lee Lembke</td>\n",
       "      <td>02/01/15</td>\n",
       "      <td>shot</td>\n",
       "      <td>gun</td>\n",
       "      <td>47.0</td>\n",
       "      <td>M</td>\n",
       "      <td>W</td>\n",
       "      <td>Aloha</td>\n",
       "      <td>OR</td>\n",
       "      <td>False</td>\n",
       "      <td>attack</td>\n",
       "      <td>Not fleeing</td>\n",
       "      <td>False</td>\n",
       "      <td>above25</td>\n",
       "    </tr>\n",
       "    <tr>\n",
       "      <th>2</th>\n",
       "      <td>5</td>\n",
       "      <td>John Paul Quintero</td>\n",
       "      <td>03/01/15</td>\n",
       "      <td>shot and Tasered</td>\n",
       "      <td>unarmed</td>\n",
       "      <td>23.0</td>\n",
       "      <td>M</td>\n",
       "      <td>H</td>\n",
       "      <td>Wichita</td>\n",
       "      <td>KS</td>\n",
       "      <td>False</td>\n",
       "      <td>other</td>\n",
       "      <td>Not fleeing</td>\n",
       "      <td>False</td>\n",
       "      <td>below25</td>\n",
       "    </tr>\n",
       "    <tr>\n",
       "      <th>3</th>\n",
       "      <td>8</td>\n",
       "      <td>Matthew Hoffman</td>\n",
       "      <td>04/01/15</td>\n",
       "      <td>shot</td>\n",
       "      <td>toy weapon</td>\n",
       "      <td>32.0</td>\n",
       "      <td>M</td>\n",
       "      <td>W</td>\n",
       "      <td>San Francisco</td>\n",
       "      <td>CA</td>\n",
       "      <td>True</td>\n",
       "      <td>attack</td>\n",
       "      <td>Not fleeing</td>\n",
       "      <td>False</td>\n",
       "      <td>above25</td>\n",
       "    </tr>\n",
       "    <tr>\n",
       "      <th>4</th>\n",
       "      <td>9</td>\n",
       "      <td>Michael Rodriguez</td>\n",
       "      <td>04/01/15</td>\n",
       "      <td>shot</td>\n",
       "      <td>nail gun</td>\n",
       "      <td>39.0</td>\n",
       "      <td>M</td>\n",
       "      <td>H</td>\n",
       "      <td>Evans</td>\n",
       "      <td>CO</td>\n",
       "      <td>False</td>\n",
       "      <td>attack</td>\n",
       "      <td>Not fleeing</td>\n",
       "      <td>False</td>\n",
       "      <td>above25</td>\n",
       "    </tr>\n",
       "  </tbody>\n",
       "</table>\n",
       "</div>"
      ],
      "text/plain": [
       "   id                name      date  ...         flee body_camera  age_cat\n",
       "0   3          Tim Elliot  02/01/15  ...  Not fleeing       False  above25\n",
       "1   4    Lewis Lee Lembke  02/01/15  ...  Not fleeing       False  above25\n",
       "2   5  John Paul Quintero  03/01/15  ...  Not fleeing       False  below25\n",
       "3   8     Matthew Hoffman  04/01/15  ...  Not fleeing       False  above25\n",
       "4   9   Michael Rodriguez  04/01/15  ...  Not fleeing       False  above25\n",
       "\n",
       "[5 rows x 15 columns]"
      ]
     },
     "execution_count": 18,
     "metadata": {
      "tags": []
     },
     "output_type": "execute_result"
    }
   ],
   "source": []
  },
  {
   "cell_type": "code",
   "execution_count": 494,
   "metadata": {},
   "outputs": [
    {
     "data": {
      "text/plain": [
       "array(['A', 'W', 'H', 'B', 'O', 'N'], dtype=object)"
      ]
     },
     "execution_count": 494,
     "metadata": {},
     "output_type": "execute_result"
    }
   ],
   "source": [
    "data.race.unique()"
   ]
  },
  {
   "cell_type": "code",
   "execution_count": null,
   "metadata": {
    "_uuid": "73ef9a67518196c14338e28236b5054186fabdc1",
    "colab": {
     "base_uri": "https://localhost:8080/"
    },
    "executionInfo": {
     "elapsed": 51,
     "status": "ok",
     "timestamp": 1622926985758,
     "user": {
      "displayName": "Thomas Rico",
      "photoUrl": "",
      "userId": "03459133432310094050"
     },
     "user_tz": -180
    },
    "id": "_ZPh_aCz-l5F",
    "outputId": "8ee30bed-c707-4e5d-b0a0-ae4e896e35e8"
   },
   "outputs": [
    {
     "data": {
      "text/plain": [
       "array(['A', 'W', 'H', 'B', 'O', nan, 'N'], dtype=object)"
      ]
     },
     "execution_count": 19,
     "metadata": {
      "tags": []
     },
     "output_type": "execute_result"
    }
   ],
   "source": []
  },
  {
   "cell_type": "code",
   "execution_count": 493,
   "metadata": {},
   "outputs": [],
   "source": [
    "index = data[data[\"race\"]==0].index\n",
    "index\n",
    "data.drop(index,inplace=True)"
   ]
  },
  {
   "cell_type": "code",
   "execution_count": 495,
   "metadata": {},
   "outputs": [
    {
     "data": {
      "text/plain": [
       "W    1201\n",
       "B     618\n",
       "H     423\n",
       "A      39\n",
       "N      31\n",
       "O      28\n",
       "Name: race, dtype: int64"
      ]
     },
     "execution_count": 495,
     "metadata": {},
     "output_type": "execute_result"
    }
   ],
   "source": [
    "data.race.value_counts()"
   ]
  },
  {
   "cell_type": "code",
   "execution_count": null,
   "metadata": {
    "colab": {
     "base_uri": "https://localhost:8080/"
    },
    "executionInfo": {
     "elapsed": 49,
     "status": "ok",
     "timestamp": 1622926985758,
     "user": {
      "displayName": "Thomas Rico",
      "photoUrl": "",
      "userId": "03459133432310094050"
     },
     "user_tz": -180
    },
    "id": "4lJAFvsx-l5F",
    "outputId": "014ec220-87cf-4b96-da5c-b0f600130869"
   },
   "outputs": [
    {
     "data": {
      "text/plain": [
       "W      1201\n",
       "B       618\n",
       "H       423\n",
       "NaN     195\n",
       "A        39\n",
       "N        31\n",
       "O        28\n",
       "Name: race, dtype: int64"
      ]
     },
     "execution_count": 20,
     "metadata": {
      "tags": []
     },
     "output_type": "execute_result"
    }
   ],
   "source": []
  },
  {
   "cell_type": "markdown",
   "metadata": {
    "id": "VuWSIYCm-l5F"
   },
   "source": [
    "Problem: missing value on race column."
   ]
  },
  {
   "cell_type": "markdown",
   "metadata": {
    "id": "mmCQXFcg-l5G"
   },
   "source": [
    "**INSTRUCTION-1: Drop the all raws that contain missing value (dropna)**"
   ]
  },
  {
   "cell_type": "code",
   "execution_count": 502,
   "metadata": {
    "id": "CzwSuxgQ-l5G"
   },
   "outputs": [
    {
     "data": {
      "text/plain": [
       "(2254, 15)"
      ]
     },
     "execution_count": 502,
     "metadata": {},
     "output_type": "execute_result"
    }
   ],
   "source": [
    "data.dropna(inplace=True)\n",
    "data.shape"
   ]
  },
  {
   "cell_type": "code",
   "execution_count": null,
   "metadata": {
    "colab": {
     "base_uri": "https://localhost:8080/"
    },
    "executionInfo": {
     "elapsed": 49,
     "status": "ok",
     "timestamp": 1622926985760,
     "user": {
      "displayName": "Thomas Rico",
      "photoUrl": "",
      "userId": "03459133432310094050"
     },
     "user_tz": -180
    },
    "id": "3DzEkUNo-l5G",
    "outputId": "fe3f08e2-9ffa-40b2-edad-963b7ee8e29d"
   },
   "outputs": [
    {
     "data": {
      "text/plain": [
       "(2254, 15)"
      ]
     },
     "execution_count": 22,
     "metadata": {
      "tags": []
     },
     "output_type": "execute_result"
    }
   ],
   "source": []
  },
  {
   "cell_type": "markdown",
   "metadata": {
    "id": "DRb2AH84-l5G"
   },
   "source": [
    "**INSTRUCTION-2: Demonstrate Race Ratio of Killed People by a Pie Chart (You can use Matplotlib)**"
   ]
  },
  {
   "cell_type": "code",
   "execution_count": 595,
   "metadata": {},
   "outputs": [
    {
     "data": {
      "text/plain": [
       "['W', 'B', 'H', 'A', 'N', 'O']"
      ]
     },
     "execution_count": 595,
     "metadata": {},
     "output_type": "execute_result"
    }
   ],
   "source": [
    "race_data = data.race.value_counts()\n",
    "new_df = pd.DataFrame(race_data)\n",
    "ind = list(new_df.index)\n",
    "ind"
   ]
  },
  {
   "cell_type": "code",
   "execution_count": null,
   "metadata": {
    "colab": {
     "base_uri": "https://localhost:8080/"
    },
    "executionInfo": {
     "elapsed": 47,
     "status": "ok",
     "timestamp": 1622926985761,
     "user": {
      "displayName": "Thomas Rico",
      "photoUrl": "",
      "userId": "03459133432310094050"
     },
     "user_tz": -180
    },
    "id": "z3CnjKfh-l5H",
    "outputId": "f138b9ff-11c1-48e2-e616-6a8db21e7dbe"
   },
   "outputs": [
    {
     "data": {
      "text/plain": [
       "Index(['W', 'B', 'H', 'A', 'N', 'O'], dtype='object')"
      ]
     },
     "execution_count": 24,
     "metadata": {
      "tags": []
     },
     "output_type": "execute_result"
    }
   ],
   "source": []
  },
  {
   "cell_type": "code",
   "execution_count": 525,
   "metadata": {},
   "outputs": [
    {
     "data": {
      "text/html": [
       "<div>\n",
       "<style scoped>\n",
       "    .dataframe tbody tr th:only-of-type {\n",
       "        vertical-align: middle;\n",
       "    }\n",
       "\n",
       "    .dataframe tbody tr th {\n",
       "        vertical-align: top;\n",
       "    }\n",
       "\n",
       "    .dataframe thead th {\n",
       "        text-align: right;\n",
       "    }\n",
       "</style>\n",
       "<table border=\"1\" class=\"dataframe\">\n",
       "  <thead>\n",
       "    <tr style=\"text-align: right;\">\n",
       "      <th></th>\n",
       "      <th>race</th>\n",
       "    </tr>\n",
       "  </thead>\n",
       "  <tbody>\n",
       "    <tr>\n",
       "      <th>W</th>\n",
       "      <td>1168</td>\n",
       "    </tr>\n",
       "    <tr>\n",
       "      <th>B</th>\n",
       "      <td>592</td>\n",
       "    </tr>\n",
       "    <tr>\n",
       "      <th>H</th>\n",
       "      <td>401</td>\n",
       "    </tr>\n",
       "    <tr>\n",
       "      <th>A</th>\n",
       "      <td>36</td>\n",
       "    </tr>\n",
       "    <tr>\n",
       "      <th>N</th>\n",
       "      <td>29</td>\n",
       "    </tr>\n",
       "    <tr>\n",
       "      <th>O</th>\n",
       "      <td>28</td>\n",
       "    </tr>\n",
       "  </tbody>\n",
       "</table>\n",
       "</div>"
      ],
      "text/plain": [
       "   race\n",
       "W  1168\n",
       "B   592\n",
       "H   401\n",
       "A    36\n",
       "N    29\n",
       "O    28"
      ]
     },
     "execution_count": 525,
     "metadata": {},
     "output_type": "execute_result"
    }
   ],
   "source": [
    "new_df"
   ]
  },
  {
   "cell_type": "code",
   "execution_count": 625,
   "metadata": {},
   "outputs": [
    {
     "data": {
      "text/plain": [
       "array([1168,  592,  401,   36,   29,   28], dtype=int64)"
      ]
     },
     "execution_count": 625,
     "metadata": {},
     "output_type": "execute_result"
    }
   ],
   "source": [
    "values = new_df.values.reshape(6,order=\"F\")\n",
    "values"
   ]
  },
  {
   "cell_type": "code",
   "execution_count": null,
   "metadata": {
    "colab": {
     "base_uri": "https://localhost:8080/"
    },
    "executionInfo": {
     "elapsed": 47,
     "status": "ok",
     "timestamp": 1622926985762,
     "user": {
      "displayName": "Thomas Rico",
      "photoUrl": "",
      "userId": "03459133432310094050"
     },
     "user_tz": -180
    },
    "id": "dNnqgLCM-l5H",
    "outputId": "939f3639-058d-4bf3-abd0-19105f334802"
   },
   "outputs": [
    {
     "data": {
      "text/plain": [
       "array([1168,  592,  401,   36,   29,   28])"
      ]
     },
     "execution_count": 25,
     "metadata": {
      "tags": []
     },
     "output_type": "execute_result"
    }
   ],
   "source": []
  },
  {
   "cell_type": "code",
   "execution_count": 868,
   "metadata": {},
   "outputs": [
    {
     "data": {
      "image/png": "[encoded data removed]",
      "text/plain": [
       "<Figure size 576x576 with 1 Axes>"
      ]
     },
     "metadata": {},
     "output_type": "display_data"
    }
   ],
   "source": [
    "explode = (0, 0, 0.1, 0, 0, 0)\n",
    "\n",
    "fig1, ax1 = plt.subplots(figsize=(8,8))\n",
    "ax1.pie(values, explode=explode, labels=ind, autopct='%1.1f%%',pctdistance=0.9, startangle=90)\n",
    "ax1.axis('equal');"
   ]
  },
  {
   "cell_type": "code",
   "execution_count": null,
   "metadata": {
    "colab": {
     "base_uri": "https://localhost:8080/",
     "height": 575
    },
    "executionInfo": {
     "elapsed": 45,
     "status": "ok",
     "timestamp": 1622926985762,
     "user": {
      "displayName": "Thomas Rico",
      "photoUrl": "",
      "userId": "03459133432310094050"
     },
     "user_tz": -180
    },
    "id": "F1CSkbxa-l5H",
    "outputId": "18bae490-b8d5-49b0-b124-f1c4f75a0129"
   },
   "outputs": [],
   "source": [
    "# matplotlib\n",
    "\n"
   ]
  },
  {
   "cell_type": "markdown",
   "metadata": {
    "id": "zOQ2PusO-G-U"
   },
   "source": [
    "## 6: Most common 15 Name or Surname of killed people "
   ]
  },
  {
   "cell_type": "code",
   "execution_count": null,
   "metadata": {
    "_uuid": "bfb975b648fbcbd1c6cdf1634f01e01371924a8c",
    "colab": {
     "base_uri": "https://localhost:8080/",
     "height": 307
    },
    "executionInfo": {
     "elapsed": 45,
     "status": "ok",
     "timestamp": 1622926985762,
     "user": {
      "displayName": "Thomas Rico",
      "photoUrl": "",
      "userId": "03459133432310094050"
     },
     "user_tz": -180
    },
    "id": "7s9SsMsj-G-U",
    "outputId": "2d3cc676-d586-402c-cabd-938eb19880bf"
   },
   "outputs": [
    {
     "data": {
      "text/html": [
       "<div>\n",
       "<style scoped>\n",
       "    .dataframe tbody tr th:only-of-type {\n",
       "        vertical-align: middle;\n",
       "    }\n",
       "\n",
       "    .dataframe tbody tr th {\n",
       "        vertical-align: top;\n",
       "    }\n",
       "\n",
       "    .dataframe thead th {\n",
       "        text-align: right;\n",
       "    }\n",
       "</style>\n",
       "<table border=\"1\" class=\"dataframe\">\n",
       "  <thead>\n",
       "    <tr style=\"text-align: right;\">\n",
       "      <th></th>\n",
       "      <th>id</th>\n",
       "      <th>name</th>\n",
       "      <th>date</th>\n",
       "      <th>manner_of_death</th>\n",
       "      <th>armed</th>\n",
       "      <th>age</th>\n",
       "      <th>gender</th>\n",
       "      <th>race</th>\n",
       "      <th>city</th>\n",
       "      <th>state</th>\n",
       "      <th>signs_of_mental_illness</th>\n",
       "      <th>threat_level</th>\n",
       "      <th>flee</th>\n",
       "      <th>body_camera</th>\n",
       "      <th>age_cat</th>\n",
       "    </tr>\n",
       "  </thead>\n",
       "  <tbody>\n",
       "    <tr>\n",
       "      <th>0</th>\n",
       "      <td>3</td>\n",
       "      <td>Tim Elliot</td>\n",
       "      <td>02/01/15</td>\n",
       "      <td>shot</td>\n",
       "      <td>gun</td>\n",
       "      <td>53.0</td>\n",
       "      <td>M</td>\n",
       "      <td>A</td>\n",
       "      <td>Shelton</td>\n",
       "      <td>WA</td>\n",
       "      <td>True</td>\n",
       "      <td>attack</td>\n",
       "      <td>Not fleeing</td>\n",
       "      <td>False</td>\n",
       "      <td>above25</td>\n",
       "    </tr>\n",
       "    <tr>\n",
       "      <th>1</th>\n",
       "      <td>4</td>\n",
       "      <td>Lewis Lee Lembke</td>\n",
       "      <td>02/01/15</td>\n",
       "      <td>shot</td>\n",
       "      <td>gun</td>\n",
       "      <td>47.0</td>\n",
       "      <td>M</td>\n",
       "      <td>W</td>\n",
       "      <td>Aloha</td>\n",
       "      <td>OR</td>\n",
       "      <td>False</td>\n",
       "      <td>attack</td>\n",
       "      <td>Not fleeing</td>\n",
       "      <td>False</td>\n",
       "      <td>above25</td>\n",
       "    </tr>\n",
       "    <tr>\n",
       "      <th>2</th>\n",
       "      <td>5</td>\n",
       "      <td>John Paul Quintero</td>\n",
       "      <td>03/01/15</td>\n",
       "      <td>shot and Tasered</td>\n",
       "      <td>unarmed</td>\n",
       "      <td>23.0</td>\n",
       "      <td>M</td>\n",
       "      <td>H</td>\n",
       "      <td>Wichita</td>\n",
       "      <td>KS</td>\n",
       "      <td>False</td>\n",
       "      <td>other</td>\n",
       "      <td>Not fleeing</td>\n",
       "      <td>False</td>\n",
       "      <td>below25</td>\n",
       "    </tr>\n",
       "    <tr>\n",
       "      <th>3</th>\n",
       "      <td>8</td>\n",
       "      <td>Matthew Hoffman</td>\n",
       "      <td>04/01/15</td>\n",
       "      <td>shot</td>\n",
       "      <td>toy weapon</td>\n",
       "      <td>32.0</td>\n",
       "      <td>M</td>\n",
       "      <td>W</td>\n",
       "      <td>San Francisco</td>\n",
       "      <td>CA</td>\n",
       "      <td>True</td>\n",
       "      <td>attack</td>\n",
       "      <td>Not fleeing</td>\n",
       "      <td>False</td>\n",
       "      <td>above25</td>\n",
       "    </tr>\n",
       "    <tr>\n",
       "      <th>4</th>\n",
       "      <td>9</td>\n",
       "      <td>Michael Rodriguez</td>\n",
       "      <td>04/01/15</td>\n",
       "      <td>shot</td>\n",
       "      <td>nail gun</td>\n",
       "      <td>39.0</td>\n",
       "      <td>M</td>\n",
       "      <td>H</td>\n",
       "      <td>Evans</td>\n",
       "      <td>CO</td>\n",
       "      <td>False</td>\n",
       "      <td>attack</td>\n",
       "      <td>Not fleeing</td>\n",
       "      <td>False</td>\n",
       "      <td>above25</td>\n",
       "    </tr>\n",
       "  </tbody>\n",
       "</table>\n",
       "</div>"
      ],
      "text/plain": [
       "   id                name      date  ...         flee body_camera  age_cat\n",
       "0   3          Tim Elliot  02/01/15  ...  Not fleeing       False  above25\n",
       "1   4    Lewis Lee Lembke  02/01/15  ...  Not fleeing       False  above25\n",
       "2   5  John Paul Quintero  03/01/15  ...  Not fleeing       False  below25\n",
       "3   8     Matthew Hoffman  04/01/15  ...  Not fleeing       False  above25\n",
       "4   9   Michael Rodriguez  04/01/15  ...  Not fleeing       False  above25\n",
       "\n",
       "[5 rows x 15 columns]"
      ]
     },
     "execution_count": 27,
     "metadata": {
      "tags": []
     },
     "output_type": "execute_result"
    }
   ],
   "source": []
  },
  {
   "cell_type": "code",
   "execution_count": null,
   "metadata": {
    "colab": {
     "base_uri": "https://localhost:8080/"
    },
    "executionInfo": {
     "elapsed": 45,
     "status": "ok",
     "timestamp": 1622926985763,
     "user": {
      "displayName": "Thomas Rico",
      "photoUrl": "",
      "userId": "03459133432310094050"
     },
     "user_tz": -180
    },
    "id": "R7idQSfR-G-V",
    "outputId": "617558e5-408e-4392-bf31-50db2d071323"
   },
   "outputs": [
    {
     "data": {
      "text/plain": [
       "(2254, 15)"
      ]
     },
     "execution_count": 28,
     "metadata": {
      "tags": []
     },
     "output_type": "execute_result"
    }
   ],
   "source": []
  },
  {
   "cell_type": "code",
   "execution_count": 767,
   "metadata": {},
   "outputs": [
    {
     "data": {
      "text/plain": [
       "Brandon Jones               2\n",
       "Daquan Antonio Westbrook    2\n",
       "Michael Johnson             2\n",
       "Michael Brown               2\n",
       "Eric Harris                 2\n",
       "                           ..\n",
       "James Richard Jimenez       1\n",
       "Joseph Moreno               1\n",
       "David Brian Evans           1\n",
       "Robert L. Martinez          1\n",
       "William Joseph Ryan         1\n",
       "Name: name, Length: 2249, dtype: int64"
      ]
     },
     "execution_count": 767,
     "metadata": {},
     "output_type": "execute_result"
    }
   ],
   "source": [
    "data.name.value_counts()"
   ]
  },
  {
   "cell_type": "code",
   "execution_count": null,
   "metadata": {
    "colab": {
     "base_uri": "https://localhost:8080/"
    },
    "executionInfo": {
     "elapsed": 43,
     "status": "ok",
     "timestamp": 1622926985763,
     "user": {
      "displayName": "Thomas Rico",
      "photoUrl": "",
      "userId": "03459133432310094050"
     },
     "user_tz": -180
    },
    "id": "xx5JDVqZ-G-V",
    "outputId": "9ee6b2a8-b264-40c6-f187-6dd7d1c32efe",
    "scrolled": true
   },
   "outputs": [
    {
     "data": {
      "text/plain": [
       "Daquan Antonio Westbrook    2\n",
       "Michael Johnson             2\n",
       "Eric Harris                 2\n",
       "Michael Brown               2\n",
       "Brandon Jones               2\n",
       "                           ..\n",
       "Wayne Donald Dorsey         1\n",
       "Matthew Vincent Wood        1\n",
       "Taylor Hodge                1\n",
       "David L. Anderson           1\n",
       "Jovany Martinez             1\n",
       "Name: name, Length: 2249, dtype: int64"
      ]
     },
     "execution_count": 29,
     "metadata": {
      "tags": []
     },
     "output_type": "execute_result"
    }
   ],
   "source": []
  },
  {
   "cell_type": "code",
   "execution_count": null,
   "metadata": {
    "_cell_guid": "c2cd6681-42a4-44c2-ba1a-46d4d61b6eea",
    "_uuid": "b3b53866f9c794ca5f85f59bc5bfc0d01a830baf",
    "colab": {
     "base_uri": "https://localhost:8080/"
    },
    "executionInfo": {
     "elapsed": 43,
     "status": "ok",
     "timestamp": 1622926985764,
     "user": {
      "displayName": "Thomas Rico",
      "photoUrl": "",
      "userId": "03459133432310094050"
     },
     "user_tz": -180
    },
    "id": "YsaT2vLg-G-W",
    "outputId": "f3de216b-2176-4b7e-8fc2-c9e3858bd298",
    "scrolled": false
   },
   "outputs": [
    {
     "data": {
      "text/plain": [
       "0             [Tim, Elliot]\n",
       "1      [Lewis, Lee, Lembke]\n",
       "2    [John, Paul, Quintero]\n",
       "3        [Matthew, Hoffman]\n",
       "4      [Michael, Rodriguez]\n",
       "Name: name, dtype: object"
      ]
     },
     "execution_count": 30,
     "metadata": {
      "tags": []
     },
     "output_type": "execute_result"
    }
   ],
   "source": [
    "# Problem: TK TK is most probably not a name or surname. We will clean them.\n"
   ]
  },
  {
   "cell_type": "code",
   "execution_count": 836,
   "metadata": {},
   "outputs": [
    {
     "data": {
      "text/plain": [
       "0                [Tim, Elliot]\n",
       "1         [Lewis, Lee, Lembke]\n",
       "2       [John, Paul, Quintero]\n",
       "3           [Matthew, Hoffman]\n",
       "4         [Michael, Rodriguez]\n",
       "                 ...          \n",
       "2519            [Aries, Clark]\n",
       "2523     [Kesharn, K., Burney]\n",
       "2525       [Deltra, Henderson]\n",
       "2533          [Isaiah, Tucker]\n",
       "2534           [Dwayne, Jeune]\n",
       "Name: name, Length: 2254, dtype: object"
      ]
     },
     "execution_count": 836,
     "metadata": {},
     "output_type": "execute_result"
    }
   ],
   "source": [
    "string = data[\"name\"].str\n",
    "name_surname = string.split(\" \")\n",
    "name_surname"
   ]
  },
  {
   "cell_type": "code",
   "execution_count": null,
   "metadata": {
    "colab": {
     "base_uri": "https://localhost:8080/"
    },
    "executionInfo": {
     "elapsed": 42,
     "status": "ok",
     "timestamp": 1622926985764,
     "user": {
      "displayName": "Thomas Rico",
      "photoUrl": "",
      "userId": "03459133432310094050"
     },
     "user_tz": -180
    },
    "id": "Tm35sunM-G-W",
    "outputId": "f6fc6156-5af6-4a3d-f509-9c16f85fb1c8",
    "scrolled": true
   },
   "outputs": [],
   "source": [
    "type(pairs)"
   ]
  },
  {
   "cell_type": "markdown",
   "metadata": {
    "id": "SDeKoDA3-G-W"
   },
   "source": [
    "**INSTRUCTION : Plot Most common 15 Name OR Surname of killed people** "
   ]
  },
  {
   "cell_type": "raw",
   "metadata": {
    "id": "GDrfQsvl-G-W"
   },
   "source": [
    "### Clue 1: You need to separate the names and surnames because we are asking most common name OR surname.\n",
    "\n",
    "### Clue 2 :After seperation make a whole list that contains both names and surnames.\n",
    "\n",
    "### Clue 3 : How to separate the name and surname pairs?\n",
    "\n",
    ">>> pairs = [(1, 'a'), (2, 'b'), (3, 'c'), (4, 'd')]\n",
    ">>> numbers, letters = zip(*pairs)\n",
    ">>> numbers\n",
    "(1, 2, 3, 4)\n",
    ">>> letters\n",
    "('a', 'b', 'c', 'd')\n",
    "\n",
    "### Clue 4: You can use Counter() and most_common() built in functions together to find the most common names or surnames, or you can write your own functions for this purpose."
   ]
  },
  {
   "cell_type": "markdown",
   "metadata": {
    "id": "enYjZO9j5Cn9"
   },
   "source": [
    "shape"
   ]
  },
  {
   "cell_type": "code",
   "execution_count": null,
   "metadata": {
    "colab": {
     "base_uri": "https://localhost:8080/"
    },
    "executionInfo": {
     "elapsed": 41,
     "status": "ok",
     "timestamp": 1622926985765,
     "user": {
      "displayName": "Thomas Rico",
      "photoUrl": "",
      "userId": "03459133432310094050"
     },
     "user_tz": -180
    },
    "id": "wTOlNN6V-G-W",
    "outputId": "d02b14f6-6ec4-4294-a850-ef94ce1572fa"
   },
   "outputs": [
    {
     "data": {
      "text/plain": [
       "(2253,)"
      ]
     },
     "execution_count": 32,
     "metadata": {
      "tags": []
     },
     "output_type": "execute_result"
    }
   ],
   "source": []
  },
  {
   "cell_type": "code",
   "execution_count": null,
   "metadata": {
    "colab": {
     "base_uri": "https://localhost:8080/"
    },
    "executionInfo": {
     "elapsed": 40,
     "status": "ok",
     "timestamp": 1622926985765,
     "user": {
      "displayName": "Thomas Rico",
      "photoUrl": "",
      "userId": "03459133432310094050"
     },
     "user_tz": -180
    },
    "id": "0Ml-0Jbo-G-X",
    "outputId": "ccd66eaa-e0c5-4dc6-9aec-a99008ae63eb"
   },
   "outputs": [
    {
     "data": {
      "text/plain": [
       "['Tim', 'Elliot']"
      ]
     },
     "execution_count": 33,
     "metadata": {
      "tags": []
     },
     "output_type": "execute_result"
    }
   ],
   "source": []
  },
  {
   "cell_type": "code",
   "execution_count": null,
   "metadata": {
    "colab": {
     "base_uri": "https://localhost:8080/",
     "height": 35
    },
    "executionInfo": {
     "elapsed": 39,
     "status": "ok",
     "timestamp": 1622926985765,
     "user": {
      "displayName": "Thomas Rico",
      "photoUrl": "",
      "userId": "03459133432310094050"
     },
     "user_tz": -180
    },
    "id": "B4S3UjP--G-X",
    "outputId": "c4aeaea4-b782-4c61-cb49-c588ecbed42b"
   },
   "outputs": [
    {
     "data": {
      "application/vnd.google.colaboratory.intrinsic+json": {
       "type": "string"
      },
      "text/plain": [
       "'Tim'"
      ]
     },
     "execution_count": 34,
     "metadata": {
      "tags": []
     },
     "output_type": "execute_result"
    }
   ],
   "source": []
  },
  {
   "cell_type": "code",
   "execution_count": null,
   "metadata": {
    "id": "eIN9wmQZ-G-X"
   },
   "outputs": [],
   "source": []
  },
  {
   "cell_type": "code",
   "execution_count": null,
   "metadata": {
    "colab": {
     "base_uri": "https://localhost:8080/"
    },
    "executionInfo": {
     "elapsed": 39,
     "status": "ok",
     "timestamp": 1622926985766,
     "user": {
      "displayName": "Thomas Rico",
      "photoUrl": "",
      "userId": "03459133432310094050"
     },
     "user_tz": -180
    },
    "id": "qzpsa-8C-G-X",
    "outputId": "9a4b6062-d0e1-49c6-f8a5-763c904ca17f"
   },
   "outputs": [
    {
     "data": {
      "text/plain": [
       "5339"
      ]
     },
     "execution_count": 36,
     "metadata": {
      "tags": []
     },
     "output_type": "execute_result"
    }
   ],
   "source": []
  },
  {
   "cell_type": "code",
   "execution_count": 862,
   "metadata": {},
   "outputs": [
    {
     "data": {
      "text/plain": [
       "42"
      ]
     },
     "execution_count": 862,
     "metadata": {},
     "output_type": "execute_result"
    }
   ],
   "source": [
    "name_list =[]\n",
    "for i in name_surname:\n",
    "    for j in i:\n",
    "        name_list.append(j)\n",
    "name_list\n",
    "counted = Counter(name_list)\n",
    "counted.pop(\"\")"
   ]
  },
  {
   "cell_type": "code",
   "execution_count": null,
   "metadata": {
    "colab": {
     "base_uri": "https://localhost:8080/"
    },
    "executionInfo": {
     "elapsed": 37,
     "status": "ok",
     "timestamp": 1622926985766,
     "user": {
      "displayName": "Thomas Rico",
      "photoUrl": "",
      "userId": "03459133432310094050"
     },
     "user_tz": -180
    },
    "id": "E6EkGClj-G-Y",
    "outputId": "142f78af-09f9-4bcf-8091-367c680553a4"
   },
   "outputs": [
    {
     "data": {
      "text/plain": [
       "Counter({'Tim': 3,\n",
       "         'Elliot': 1,\n",
       "         'Lewis': 7,\n",
       "         'Lee': 37,\n",
       "         'Lembke': 1,\n",
       "         'John': 36,\n",
       "         'Paul': 16,\n",
       "         'Quintero': 2,\n",
       "         'Matthew': 22,\n",
       "         'Hoffman': 2,\n",
       "         'Michael': 82,\n",
       "         'Rodriguez': 13,\n",
       "         'Kenneth': 17,\n",
       "         'Joe': 9,\n",
       "         'Brown': 17,\n",
       "         'Arnold': 2,\n",
       "         'Buck': 3,\n",
       "         'Brock': 2,\n",
       "         'Nichols': 3,\n",
       "         'Autumn': 1,\n",
       "         'Steele': 1,\n",
       "         'Leslie': 2,\n",
       "         'Sapp': 2,\n",
       "         'III': 9,\n",
       "         'Patrick': 13,\n",
       "         'Wetter': 1,\n",
       "         'Ron': 2,\n",
       "         'Sneed': 1,\n",
       "         'Hashim': 1,\n",
       "         'Hanif': 1,\n",
       "         'Ibn': 1,\n",
       "         'Abdul-Rasheed': 1,\n",
       "         'Nicholas': 13,\n",
       "         'Ryan': 16,\n",
       "         'Brickman': 1,\n",
       "         'Omarr': 1,\n",
       "         'Julian': 3,\n",
       "         'Maximillian': 1,\n",
       "         'Jackson': 9,\n",
       "         'Loren': 3,\n",
       "         'Simpson': 4,\n",
       "         'James': 47,\n",
       "         'Dudley': 1,\n",
       "         'Barker': 2,\n",
       "         'Artago': 1,\n",
       "         'Damon': 6,\n",
       "         'Howard': 3,\n",
       "         'Thomas': 24,\n",
       "         'Hamby': 1,\n",
       "         'Jimmy': 5,\n",
       "         'Foreman': 1,\n",
       "         'Andy': 1,\n",
       "         'Martinez': 10,\n",
       "         'Tommy': 3,\n",
       "         'Smith': 31,\n",
       "         'Brian': 9,\n",
       "         'Barbosa': 1,\n",
       "         'Salvador': 4,\n",
       "         'Figueroa': 2,\n",
       "         'Edward': 15,\n",
       "         \"O'Keefe\": 1,\n",
       "         'Richard': 33,\n",
       "         'McClendon': 2,\n",
       "         'Marcus': 4,\n",
       "         'Golden': 1,\n",
       "         'Goebel': 1,\n",
       "         'Mario': 8,\n",
       "         'Jordan': 5,\n",
       "         'Talbot': 1,\n",
       "         'Schroeder': 2,\n",
       "         'Robert': 44,\n",
       "         'Edwards': 6,\n",
       "         'Jeffrey': 17,\n",
       "         'R.': 10,\n",
       "         'Nielson': 1,\n",
       "         'Donte': 3,\n",
       "         'Sowell': 2,\n",
       "         'Kavonda': 1,\n",
       "         'Earl': 9,\n",
       "         'Payton': 1,\n",
       "         'Quincy': 2,\n",
       "         'Reed': 2,\n",
       "         'Reindl': 1,\n",
       "         'Jose': 23,\n",
       "         'Ceja': 1,\n",
       "         'Nathan': 6,\n",
       "         'Massey': 1,\n",
       "         'Scott': 25,\n",
       "         'Hall': 13,\n",
       "         'Zaki': 1,\n",
       "         'Shinwary': 1,\n",
       "         'Terence': 3,\n",
       "         'Walker': 3,\n",
       "         'Pablo': 3,\n",
       "         'Meza': 1,\n",
       "         'Daniel': 40,\n",
       "         'Brumley': 1,\n",
       "         'Jonathan': 10,\n",
       "         'Guillory': 1,\n",
       "         'Carter': 5,\n",
       "         'Castle': 1,\n",
       "         'Campbell': 4,\n",
       "         'Dewayne': 3,\n",
       "         'Carr': 2,\n",
       "         'Todd': 10,\n",
       "         'Allen': 20,\n",
       "         'Hodge': 4,\n",
       "         'Miguel': 9,\n",
       "         'Angel': 14,\n",
       "         'de': 1,\n",
       "         'Santos-Rodriguez': 1,\n",
       "         'Isaac': 2,\n",
       "         'Holmes': 2,\n",
       "         'Andrew': 19,\n",
       "         'Toto': 1,\n",
       "         'Tiano': 1,\n",
       "         'Meton': 1,\n",
       "         'Kristiana': 1,\n",
       "         'Coignard': 1,\n",
       "         'Francis': 12,\n",
       "         'Mesch': 1,\n",
       "         'Demaris': 1,\n",
       "         'Turner': 3,\n",
       "         'Antonio': 14,\n",
       "         'Espinoza': 1,\n",
       "         'Ruiz': 2,\n",
       "         'Wendell': 1,\n",
       "         'King': 4,\n",
       "         'Daryl': 1,\n",
       "         'Myler': 1,\n",
       "         'Darin': 1,\n",
       "         'Hutchins': 1,\n",
       "         'Orlando': 1,\n",
       "         'Jude': 1,\n",
       "         'Lopez': 7,\n",
       "         'Jessie': 3,\n",
       "         'Hernandez': 13,\n",
       "         'Raymond': 10,\n",
       "         'Kmetz': 1,\n",
       "         'Joshua': 27,\n",
       "         'Omar': 6,\n",
       "         'Garcia': 12,\n",
       "         'David': 53,\n",
       "         'Nicolas': 2,\n",
       "         'Leland': 2,\n",
       "         'Tewa': 1,\n",
       "         'Chris': 3,\n",
       "         'Ingram': 1,\n",
       "         'Jermonte': 1,\n",
       "         'Fletcher': 4,\n",
       "         'Tiffany': 2,\n",
       "         'Terry': 7,\n",
       "         'Alan': 11,\n",
       "         'Lance': 5,\n",
       "         'Alverson': 1,\n",
       "         'Matautu': 1,\n",
       "         'Nuu': 1,\n",
       "         'Cody': 6,\n",
       "         'Karasek': 1,\n",
       "         'Ralph': 3,\n",
       "         'Willis': 3,\n",
       "         'Barry': 6,\n",
       "         'Marshall': 6,\n",
       "         'Victor': 6,\n",
       "         'Manuel': 6,\n",
       "         'Reyes': 6,\n",
       "         'Donnell': 2,\n",
       "         'Bright': 1,\n",
       "         'Jacob': 6,\n",
       "         'Haglund': 1,\n",
       "         'Kassick': 1,\n",
       "         'Murphy': 3,\n",
       "         'Rose': 3,\n",
       "         'Ledarius': 1,\n",
       "         'D.': 14,\n",
       "         'Williams': 16,\n",
       "         'Yuvette': 1,\n",
       "         'Henderson': 5,\n",
       "         'Deshawn': 1,\n",
       "         'Ward': 1,\n",
       "         'Anthony': 26,\n",
       "         'Purvis': 1,\n",
       "         'Jeremy': 12,\n",
       "         'Lett': 1,\n",
       "         'Izzy': 1,\n",
       "         'Colon': 1,\n",
       "         'Muna': 1,\n",
       "         'Joaquin': 1,\n",
       "         'Ray': 13,\n",
       "         'Robinson': 8,\n",
       "         'Jr.': 18,\n",
       "         'Markell': 2,\n",
       "         'Atkins': 1,\n",
       "         'Alfred': 4,\n",
       "         'Eugene': 12,\n",
       "         'Johnson': 29,\n",
       "         'Herbert': 5,\n",
       "         'Hill': 4,\n",
       "         'Sawyer': 2,\n",
       "         'Martin': 13,\n",
       "         'Whittaker': 1,\n",
       "         'Flache': 1,\n",
       "         'Vincent': 5,\n",
       "         'Cordaro': 1,\n",
       "         'Joseph': 43,\n",
       "         'Paffen': 1,\n",
       "         'Larry': 6,\n",
       "         'Hostetter': 1,\n",
       "         'Kreyssig': 1,\n",
       "         'Desmond': 3,\n",
       "         'Luster': 1,\n",
       "         'Zambrano-Montes': 1,\n",
       "         'Bess': 2,\n",
       "         'Fritze': 1,\n",
       "         'Phillip': 9,\n",
       "         'Watkins': 4,\n",
       "         'Stewart': 3,\n",
       "         'Harden': 1,\n",
       "         'Andres': 1,\n",
       "         'Lara-Rodriguez': 1,\n",
       "         'Carlin': 1,\n",
       "         'Belk': 1,\n",
       "         'Mejia': 2,\n",
       "         'Jason': 22,\n",
       "         'C.': 8,\n",
       "         'Hendrix': 2,\n",
       "         'Roy': 6,\n",
       "         'Joy': 1,\n",
       "         'Day': 2,\n",
       "         'Lavall': 1,\n",
       "         'Brent': 6,\n",
       "         'Means': 1,\n",
       "         'Bruce': 7,\n",
       "         'Steward': 1,\n",
       "         'Lawrence': 5,\n",
       "         'Caldwell': 2,\n",
       "         'K.': 4,\n",
       "         'Casper': 1,\n",
       "         'Evans': 8,\n",
       "         'Betty': 1,\n",
       "         'Sexton': 2,\n",
       "         'Ireland': 1,\n",
       "         'Lundy': 1,\n",
       "         'Douglas': 11,\n",
       "         'Sparks': 1,\n",
       "         'Pedro': 4,\n",
       "         'Juan': 12,\n",
       "         'Saldivar': 1,\n",
       "         'Janisha': 1,\n",
       "         'Fonville': 1,\n",
       "         'Ruben': 6,\n",
       "         'Villalpando': 1,\n",
       "         'Stanley': 4,\n",
       "         'Lamar': 4,\n",
       "         'Grant': 4,\n",
       "         'Harris': 11,\n",
       "         'Moncrief': 1,\n",
       "         'Kent': 2,\n",
       "         'Norman': 4,\n",
       "         'Bradford': 1,\n",
       "         'Leonard': 2,\n",
       "         'Jerome': 5,\n",
       "         'Elrod': 1,\n",
       "         'Kohl': 1,\n",
       "         'Wayne': 10,\n",
       "         'Smashey': 1,\n",
       "         'Giaquinta': 1,\n",
       "         \"A'Donte\": 1,\n",
       "         'Washington': 6,\n",
       "         'Biegert': 1,\n",
       "         'Glenn': 4,\n",
       "         'Spivey': 1,\n",
       "         'Alexander': 13,\n",
       "         'Long': 6,\n",
       "         'Cuevas': 1,\n",
       "         'Amilcar': 1,\n",
       "         'Perez-Lopez': 1,\n",
       "         'Rodney': 9,\n",
       "         'Biggs': 2,\n",
       "         'Crystal': 1,\n",
       "         'Miley': 1,\n",
       "         'Harry': 2,\n",
       "         'Ernesto': 3,\n",
       "         'Javiar': 1,\n",
       "         'Canepa': 1,\n",
       "         'Diaz': 5,\n",
       "         'Chazsten': 1,\n",
       "         'Freeman': 1,\n",
       "         'Deven': 1,\n",
       "         'Guilford': 1,\n",
       "         'Jessica': 2,\n",
       "         'Uribe': 1,\n",
       "         'Cornelius': 2,\n",
       "         'J.': 30,\n",
       "         'Parker': 4,\n",
       "         'Ian': 2,\n",
       "         'Sherrod': 1,\n",
       "         'Stephanie': 1,\n",
       "         'Donald': 9,\n",
       "         'Matkins': 1,\n",
       "         'Charly': 1,\n",
       "         'Leundeu': 1,\n",
       "         'Keunang': 1,\n",
       "         'Hung': 1,\n",
       "         'Trieu': 1,\n",
       "         'Shaquille': 1,\n",
       "         'Barrow': 1,\n",
       "         'Fednel': 1,\n",
       "         'Rhinvil': 1,\n",
       "         'Metz': 1,\n",
       "         'Derek': 9,\n",
       "         'Cruice': 1,\n",
       "         'Carl': 4,\n",
       "         'Lao': 1,\n",
       "         'Tyrone': 5,\n",
       "         'Ryerson': 1,\n",
       "         'Sergio': 6,\n",
       "         'Navas': 1,\n",
       "         'Tyson': 2,\n",
       "         'Hubbard': 1,\n",
       "         'Naeschylus': 1,\n",
       "         'Vinzant': 1,\n",
       "         'Tony': 2,\n",
       "         'Adam': 6,\n",
       "         'Reinhart': 1,\n",
       "         'Aurelio': 1,\n",
       "         'Duarte': 1,\n",
       "         'McKillop': 1,\n",
       "         'Monique': 1,\n",
       "         'Jenee': 1,\n",
       "         'Deckard': 1,\n",
       "         'Lester': 1,\n",
       "         'Cedrick': 1,\n",
       "         'Lamont': 7,\n",
       "         'Bishop': 1,\n",
       "         'Jamie': 5,\n",
       "         'Croom': 1,\n",
       "         'Christopher': 35,\n",
       "         'Mitchell': 3,\n",
       "         'Edixon': 1,\n",
       "         'Franco': 2,\n",
       "         'Theodore': 1,\n",
       "         'Greenwell': 1,\n",
       "         'Benito': 1,\n",
       "         'Osorio': 1,\n",
       "         'Dean': 8,\n",
       "         'Burgess': 4,\n",
       "         'Aaron': 8,\n",
       "         'Valdez': 3,\n",
       "         'Gilbert': 4,\n",
       "         'Fleury': 1,\n",
       "         'William': 40,\n",
       "         'Russell': 5,\n",
       "         'Garnett': 1,\n",
       "         'Bobby': 7,\n",
       "         'Gross': 1,\n",
       "         'Fred': 4,\n",
       "         'Liggett': 1,\n",
       "         'Driver': 1,\n",
       "         'Perez': 7,\n",
       "         'Jimenez': 2,\n",
       "         'Castilleja': 1,\n",
       "         'Clifton': 2,\n",
       "         'Reintzel': 1,\n",
       "         'Siler': 1,\n",
       "         'Troy': 2,\n",
       "         'Boyd': 3,\n",
       "         'Justin': 9,\n",
       "         'Tolkinen': 1,\n",
       "         'Poole': 1,\n",
       "         'Roberto': 3,\n",
       "         'Leon': 4,\n",
       "         'Charles': 23,\n",
       "         'Shipley': 1,\n",
       "         'Declan': 1,\n",
       "         'Owen': 1,\n",
       "         'Alice': 1,\n",
       "         'Jeff': 5,\n",
       "         'Kaylene': 1,\n",
       "         'Stone': 1,\n",
       "         'Garland': 2,\n",
       "         'Wingo': 1,\n",
       "         'Kendre': 1,\n",
       "         'Alston': 1,\n",
       "         'Jamison': 2,\n",
       "         'Childress': 2,\n",
       "         'Burdge': 1,\n",
       "         'Shane': 7,\n",
       "         'Brandon': 19,\n",
       "         'Jones': 12,\n",
       "         'Rapp': 1,\n",
       "         'Fowler': 1,\n",
       "         'White': 5,\n",
       "         'Tyrel': 1,\n",
       "         'Vick': 1,\n",
       "         'Ellis': 2,\n",
       "         'Gary': 10,\n",
       "         'Page': 2,\n",
       "         'Enoch': 1,\n",
       "         'Gaver': 1,\n",
       "         'Conley': 1,\n",
       "         'Healy': 1,\n",
       "         'Denzel': 1,\n",
       "         'Devin': 5,\n",
       "         'Gates': 2,\n",
       "         'Stephen': 10,\n",
       "         'Snyder': 2,\n",
       "         'Walter': 4,\n",
       "         'Dunham': 1,\n",
       "         'Lorenza': 1,\n",
       "         'Kelly': 1,\n",
       "         'Terrazas': 1,\n",
       "         'Tassinari': 1,\n",
       "         'Deanne': 1,\n",
       "         'Choate': 1,\n",
       "         'Adrian': 4,\n",
       "         'Solis': 1,\n",
       "         'Kendrick': 1,\n",
       "         'Jamalis': 1,\n",
       "         'Neil': 3,\n",
       "         'Seifert': 1,\n",
       "         'Megan': 1,\n",
       "         'Hockaday': 1,\n",
       "         'Harvey': 1,\n",
       "         'Oates': 1,\n",
       "         'Angelo': 3,\n",
       "         'West': 3,\n",
       "         'Rooker': 1,\n",
       "         'Byron': 1,\n",
       "         'Babb': 1,\n",
       "         'Anderson': 12,\n",
       "         'Benjamin': 5,\n",
       "         'Quezada': 2,\n",
       "         'Mya': 1,\n",
       "         'Shawn': 6,\n",
       "         'Clyde': 3,\n",
       "         'Darrin': 3,\n",
       "         'Langford': 1,\n",
       "         'Hicks': 5,\n",
       "         'Eric': 16,\n",
       "         'Rutledge': 1,\n",
       "         'Prevatt': 1,\n",
       "         'Justus': 1,\n",
       "         'Howell': 1,\n",
       "         'Ethan': 3,\n",
       "         'Noll': 1,\n",
       "         'Ken': 1,\n",
       "         'Cockerel': 1,\n",
       "         'Hanna': 1,\n",
       "         'Myers': 2,\n",
       "         'Tyrell': 1,\n",
       "         'Larsen': 1,\n",
       "         'Erick': 2,\n",
       "         'Faith': 1,\n",
       "         'Dexter': 2,\n",
       "         'Pernell': 1,\n",
       "         'Bethea': 1,\n",
       "         'Weber': 2,\n",
       "         'Gordon': 2,\n",
       "         'Kimbrell': 1,\n",
       "         'Don': 5,\n",
       "         'Jess': 1,\n",
       "         'Leipold': 1,\n",
       "         'Cresencio': 1,\n",
       "         'Corona': 1,\n",
       "         'Mack': 2,\n",
       "         'Dale': 4,\n",
       "         'Weaver': 1,\n",
       "         'Colby': 2,\n",
       "         'Finley': 1,\n",
       "         'Tevin': 1,\n",
       "         'Barkley': 1,\n",
       "         'Dante': 2,\n",
       "         'Noble': 2,\n",
       "         'Frank': 4,\n",
       "         'Shephard': 1,\n",
       "         'Mark': 20,\n",
       "         'W.': 3,\n",
       "         'Adair': 1,\n",
       "         'Watson': 3,\n",
       "         'Flores': 5,\n",
       "         'Rodolfo': 1,\n",
       "         'Velazquez': 1,\n",
       "         'Kemp': 1,\n",
       "         'Elias': 2,\n",
       "         'Cavazos': 1,\n",
       "         'Thaddeus': 2,\n",
       "         'McCarroll': 1,\n",
       "         'Erik': 3,\n",
       "         'Tellez': 1,\n",
       "         'Grover': 1,\n",
       "         'Foster': 2,\n",
       "         'Dana': 3,\n",
       "         'Hlavinka': 1,\n",
       "         'Santos': 2,\n",
       "         'Cortez': 2,\n",
       "         'Wolfe': 1,\n",
       "         'Covarrubias': 1,\n",
       "         'Kimber': 1,\n",
       "         'Key': 1,\n",
       "         'Luis': 7,\n",
       "         'Chapman': 1,\n",
       "         'Carlos': 12,\n",
       "         'Saavedra': 1,\n",
       "         'Ramirez': 6,\n",
       "         'Efraim': 1,\n",
       "         'Reginald': 3,\n",
       "         'McGregor': 1,\n",
       "         'Lue': 1,\n",
       "         'Vang': 1,\n",
       "         'Valadez': 1,\n",
       "         'Potts': 1,\n",
       "         'Hector': 5,\n",
       "         'Morejon': 1,\n",
       "         'Karen': 1,\n",
       "         'Janks': 1,\n",
       "         'Cecil': 1,\n",
       "         'Hawkins': 3,\n",
       "         'Timmie': 1,\n",
       "         'Collins': 3,\n",
       "         'Jamal': 5,\n",
       "         'Dye': 1,\n",
       "         'Felix': 2,\n",
       "         'Davis': 13,\n",
       "         'Billy': 5,\n",
       "         'Albert': 5,\n",
       "         'Hanson': 1,\n",
       "         'Genova': 1,\n",
       "         'Terrance': 1,\n",
       "         'Kellom': 1,\n",
       "         'Jared': 1,\n",
       "         'Green': 5,\n",
       "         'Deysie': 1,\n",
       "         'Chavez-Diaz': 1,\n",
       "         'Alexia': 1,\n",
       "         'Christian': 9,\n",
       "         'Adkins': 1,\n",
       "         'Acree': 1,\n",
       "         'Fridoon': 1,\n",
       "         'Zalbeg': 1,\n",
       "         'Nehad': 1,\n",
       "         'Emmanuel': 1,\n",
       "         'Sanchez': 7,\n",
       "         'Mathena': 1,\n",
       "         'Kevin': 16,\n",
       "         'Vance': 1,\n",
       "         'Norton': 2,\n",
       "         'Elton': 1,\n",
       "         'Nadir': 1,\n",
       "         'Soofi': 1,\n",
       "         'Grimm': 1,\n",
       "         'Asher': 1,\n",
       "         'Roark': 1,\n",
       "         'Cook': 2,\n",
       "         'Brendon': 1,\n",
       "         'Thong': 1,\n",
       "         'Kien': 1,\n",
       "         'Ma': 2,\n",
       "         'A.': 17,\n",
       "         'Frost': 1,\n",
       "         'Nephi': 2,\n",
       "         'Arriguin': 1,\n",
       "         'Shaun': 2,\n",
       "         'Schwalm': 1,\n",
       "         'Dedrick': 1,\n",
       "         'Sam': 3,\n",
       "         'Cunningham': 1,\n",
       "         'Lionel': 4,\n",
       "         'Lorenzo': 4,\n",
       "         'Young': 4,\n",
       "         'Kelvin': 1,\n",
       "         'Goldston': 1,\n",
       "         'Way': 1,\n",
       "         \"D'Angelo\": 1,\n",
       "         'Stallworth': 1,\n",
       "         'Zalonka': 1,\n",
       "         'Alec': 1,\n",
       "         'Ouzounian': 1,\n",
       "         'Sean': 6,\n",
       "         'Pelletier': 1,\n",
       "         'Cary': 1,\n",
       "         'Farrar': 1,\n",
       "         'Matt': 2,\n",
       "         'Coates': 1,\n",
       "         'Ronell': 1,\n",
       "         'Wade': 3,\n",
       "         'Dennis': 8,\n",
       "         'Fiel': 1,\n",
       "         'Austin': 6,\n",
       "         'Goodner': 1,\n",
       "         'Timothy': 12,\n",
       "         'Alfredo': 1,\n",
       "         'Rials-Torres': 1,\n",
       "         'McIntosh': 1,\n",
       "         'Gaines': 3,\n",
       "         'Gomez': 5,\n",
       "         'Colley': 1,\n",
       "         'Chrislon': 1,\n",
       "         'Talbott': 1,\n",
       "         'Nikki': 1,\n",
       "         'Jo': 2,\n",
       "         'Burtsfield': 1,\n",
       "         'Wheeler': 1,\n",
       "         'Alejandro': 5,\n",
       "         'Gandara': 1,\n",
       "         'Javoris': 1,\n",
       "         'Cooper': 1,\n",
       "         'Elvin': 1,\n",
       "         'Lowery': 1,\n",
       "         'Caso': 1,\n",
       "         'Horn': 1,\n",
       "         'Cassandra': 1,\n",
       "         'Bolin': 1,\n",
       "         'Briggs': 3,\n",
       "         'Millard': 2,\n",
       "         'Tallant': 1,\n",
       "         'Dalton': 2,\n",
       "         'Branch': 2,\n",
       "         'McAllister': 1,\n",
       "         'Garrett': 1,\n",
       "         'Sandeno': 1,\n",
       "         'Feras': 1,\n",
       "         'Morad': 1,\n",
       "         'Simon': 2,\n",
       "         'Hubble': 1,\n",
       "         'Darrell': 3,\n",
       "         'Morgan': 5,\n",
       "         'Strong': 1,\n",
       "         'Dothard': 1,\n",
       "         'Kyle': 8,\n",
       "         'Baker': 6,\n",
       "         'Nehemiah': 1,\n",
       "         'Fischer': 2,\n",
       "         'Box': 1,\n",
       "         'Ebin': 1,\n",
       "         'Proctor': 1,\n",
       "         'Tirado': 1,\n",
       "         'Rivera': 3,\n",
       "         'Bushey': 1,\n",
       "         'Ladd': 1,\n",
       "         'Usaamah': 1,\n",
       "         'Rahim': 1,\n",
       "         'Kamal': 1,\n",
       "         'Dajani': 1,\n",
       "         'Garza': 3,\n",
       "         'Rudy': 1,\n",
       "         'Baca': 1,\n",
       "         'Edelmiro': 1,\n",
       "         'Ronald': 7,\n",
       "         'Neal': 1,\n",
       "         'Jesus': 6,\n",
       "         'Christie': 1,\n",
       "         'Cathers': 1,\n",
       "         'Demouria': 1,\n",
       "         'Hogg': 1,\n",
       "         'Smillie': 1,\n",
       "         'Campos': 1,\n",
       "         'Fernandez': 2,\n",
       "         'Nevels': 1,\n",
       "         'Damien': 2,\n",
       "         'McDaniel': 2,\n",
       "         'Gene': 5,\n",
       "         'Rene': 4,\n",
       "         'Warolf': 1,\n",
       "         'Linhart': 1,\n",
       "         'Greg': 2,\n",
       "         'Hartley': 1,\n",
       "         'QuanDavier': 1,\n",
       "         'Bolinger': 1,\n",
       "         'Isiah': 1,\n",
       "         'Hampton': 1,\n",
       "         'Ziegler': 1,\n",
       "         'Fritz': 1,\n",
       "         'Severe': 1,\n",
       "         'Peralta-Lantigua': 1,\n",
       "         'Shelly': 2,\n",
       "         'Haendiges': 1,\n",
       "         'Deng': 1,\n",
       "         'Manyoun': 1,\n",
       "         'Boulware': 1,\n",
       "         'Zane': 1,\n",
       "         'Terryn': 1,\n",
       "         'Kris': 2,\n",
       "         'DeLeon': 1,\n",
       "         'Charboneau': 1,\n",
       "         'Wendy': 1,\n",
       "         'Chappell': 1,\n",
       "         'Lanphier': 1,\n",
       "         'Oleg': 1,\n",
       "         'Tcherniak': 1,\n",
       "         'Laboy': 1,\n",
       "         'Trepierre': 1,\n",
       "         'Hummons': 1,\n",
       "         'Louis': 3,\n",
       "         'Atencio': 1,\n",
       "         'Alfontish': 1,\n",
       "         'Cockerham': 1,\n",
       "         'Simental': 1,\n",
       "         'Monroe': 1,\n",
       "         'Barrett': 1,\n",
       "         'Eduardo': 3,\n",
       "         'Tyler': 10,\n",
       "         'Wicks': 1,\n",
       "         'Dyer': 1,\n",
       "         'Wilson': 9,\n",
       "         'Randall': 4,\n",
       "         'Waddel': 1,\n",
       "         'Taylor': 7,\n",
       "         'Culbertson': 1,\n",
       "         'Harrell': 1,\n",
       "         'Spencer': 4,\n",
       "         'McCain': 1,\n",
       "         'Jake': 2,\n",
       "         'Vanderburgh': 1,\n",
       "         'Cisneros': 2,\n",
       "         'Crittenden': 1,\n",
       "         'Bellew': 1,\n",
       "         'LaPort': 1,\n",
       "         'Clay': 2,\n",
       "         'Lickteig': 1,\n",
       "         'Judson': 1,\n",
       "         'Kaleb': 2,\n",
       "         'Landon': 2,\n",
       "         'Buckley': 1,\n",
       "         'Ton': 1,\n",
       "         'Nguyen': 1,\n",
       "         'Emanuel': 1,\n",
       "         'Larosa': 1,\n",
       "         'Cesar': 4,\n",
       "         'Limon': 1,\n",
       "         'Juarez': 4,\n",
       "         'Arturo': 3,\n",
       "         'Oscar': 4,\n",
       "         'Camacho': 1,\n",
       "         'Elando': 1,\n",
       "         'Malone': 2,\n",
       "         'Shannon': 3,\n",
       "         'Gaby': 1,\n",
       "         'Kawanza': 1,\n",
       "         'Beaty': 2,\n",
       "         'Bryan': 5,\n",
       "         'Bauer': 2,\n",
       "         'Deming': 1,\n",
       "         'Holt': 2,\n",
       "         'Munroe': 1,\n",
       "         'Johnny': 3,\n",
       "         'Rogers': 5,\n",
       "         'Hagen': 1,\n",
       "         'Esty-Lennon': 1,\n",
       "         'Oliva': 1,\n",
       "         'Sarabia': 1,\n",
       "         'Berry': 2,\n",
       "         'Hendley': 1,\n",
       "         'Marcellus': 2,\n",
       "         'Jamarcus': 1,\n",
       "         'Burley': 1,\n",
       "         'Dujanovic': 1,\n",
       "         'Graciano': 1,\n",
       "         'Tremaine': 1,\n",
       "         'Dantzler': 1,\n",
       "         'Booth': 1,\n",
       "         'Blough': 1,\n",
       "         'Westrich': 1,\n",
       "         'Dallas': 1,\n",
       "         'Shatley': 1,\n",
       "         'Rocco': 1,\n",
       "         'Palmisano': 1,\n",
       "         'Hammonds': 1,\n",
       "         'Martice': 1,\n",
       "         'Milliner': 1,\n",
       "         'Cyrus': 1,\n",
       "         'Hurtado': 2,\n",
       "         'Javon': 1,\n",
       "         'Todora': 1,\n",
       "         'Freddie': 1,\n",
       "         'Blue': 1,\n",
       "         'McSwain': 1,\n",
       "         'Maine': 1,\n",
       "         'Castaway': 1,\n",
       "         'Salvado': 1,\n",
       "         'Ellswood': 1,\n",
       "         'Lepine': 1,\n",
       "         'Benton': 1,\n",
       "         'Frederick': 4,\n",
       "         'Farmer': 1,\n",
       "         'Graham': 3,\n",
       "         'Rafael': 3,\n",
       "         'Suazo': 1,\n",
       "         'Chacarion': 1,\n",
       "         'Avant': 1,\n",
       "         'Kailing': 1,\n",
       "         'Anthonie': 1,\n",
       "         'Gonzalez': 10,\n",
       "         'Pippin': 1,\n",
       "         'Mohammad': 4,\n",
       "         'Youssef': 1,\n",
       "         'Abdulazeez': 1,\n",
       "         'Saige': 1,\n",
       "         'Hack': 1,\n",
       "         'Pierre': 2,\n",
       "         'Gabriel': 3,\n",
       "         'Koellner': 1,\n",
       "         'Samuel': 5,\n",
       "         'Jackie': 2,\n",
       "         'Brand': 1,\n",
       "         'Darrius': 1,\n",
       "         'Roman': 2,\n",
       "         'Wheat': 1,\n",
       "         'Dewey': 1,\n",
       "         'DuBose': 1,\n",
       "         'LeBoeuf': 1,\n",
       "         'Darren': 4,\n",
       "         'Fuller': 2,\n",
       "         'Jerrod': 2,\n",
       "         'Tyre': 3,\n",
       "         'Francisco': 6,\n",
       "         'Benitez-Santiago': 1,\n",
       "         'Andre': 3,\n",
       "         'Dontrell': 2,\n",
       "         'Devon': 2,\n",
       "         'Guisherd': 1,\n",
       "         'Dontae': 1,\n",
       "         'L.': 14,\n",
       "         'Wolfsteller': 1,\n",
       "         'Stortzum': 1,\n",
       "         'Robbie': 1,\n",
       "         'Edison': 1,\n",
       "         'Tamala': 1,\n",
       "         'Satre': 1,\n",
       "         'Seth': 1,\n",
       "         'Raines': 1,\n",
       "         'Gerston': 1,\n",
       "         'Olmstead': 1,\n",
       "         'Roger': 5,\n",
       "         'Braswell': 1,\n",
       "         'Keith': 14,\n",
       "         'Khari': 1,\n",
       "         'Westly': 1,\n",
       "         'Zachary': 2,\n",
       "         'Hammond': 1,\n",
       "         'Milliken': 1,\n",
       "         'Jean': 3,\n",
       "         'Falgout': 1,\n",
       "         'Forgy': 1,\n",
       "         'Perkins': 4,\n",
       "         'Vrenon': 1,\n",
       "         'Philip': 5,\n",
       "         'Vallejo': 2,\n",
       "         'Lotari': 1,\n",
       "         'Romero': 2,\n",
       "         'Molina': 1,\n",
       "         'Hatch': 1,\n",
       "         'Armando': 4,\n",
       "         'Serrano': 1,\n",
       "         'Virgil': 1,\n",
       "         'Reynolds': 2,\n",
       "         'Clements': 1,\n",
       "         'Malave': 1,\n",
       "         'Franklin': 1,\n",
       "         'Short': 1,\n",
       "         'Ruble': 1,\n",
       "         'Avila': 1,\n",
       "         'Darius': 4,\n",
       "         'Graves': 1,\n",
       "         'Dattilo': 1,\n",
       "         'Dieringer': 1,\n",
       "         'Keshawn': 1,\n",
       "         'Dominique': 2,\n",
       "         'Hargrove': 1,\n",
       "         'Vincente': 1,\n",
       "         'Montano': 2,\n",
       "         'Galaviz': 1,\n",
       "         'Gustavo': 2,\n",
       "         'Ponce-Galon': 1,\n",
       "         'Bertram': 1,\n",
       "         'Abel': 1,\n",
       "         'Correa': 1,\n",
       "         'Marchese': 1,\n",
       "         'Keckhafer': 1,\n",
       "         'Tsombe': 1,\n",
       "         'Clark': 9,\n",
       "         'Derrick': 2,\n",
       "         'Hunt': 1,\n",
       "         'Shamir': 1,\n",
       "         'Terrel': 1,\n",
       "         'Palmer': 2,\n",
       "         'Wilkes': 1,\n",
       "         'Tompkins': 2,\n",
       "         'Edrian': 1,\n",
       "         'Casey': 3,\n",
       "         'George': 9,\n",
       "         'Alarcon': 1,\n",
       "         'Hughes': 1,\n",
       "         'Shull': 1,\n",
       "         'Nathaniel': 4,\n",
       "         'Wilks': 1,\n",
       "         'Redel': 1,\n",
       "         'Tyree': 2,\n",
       "         'Sorriano': 1,\n",
       "         'Asshams': 1,\n",
       "         'Pharoah': 1,\n",
       "         'Manley': 1,\n",
       "         'Unsworth': 1,\n",
       "         'Jonathon': 1,\n",
       "         'Pope': 1,\n",
       "         'Castillo': 1,\n",
       "         'Steven': 13,\n",
       "         'B.': 5,\n",
       "         'Jacquez': 1,\n",
       "         'Mansur': 1,\n",
       "         'Ball-Bey': 1,\n",
       "         'Deviere': 1,\n",
       "         'Ernel': 1,\n",
       "         'Ransom': 1,\n",
       "         'Hale': 2,\n",
       "         'Gerken': 1,\n",
       "         'Jeffory': 1,\n",
       "         'Tevis': 1,\n",
       "         'Raul': 3,\n",
       "         'Herrera': 4,\n",
       "         'Timmy': 1,\n",
       "         'Walling': 1,\n",
       "         'S.': 6,\n",
       "         'Rushton': 1,\n",
       "         'Schneider': 1,\n",
       "         'Faison': 2,\n",
       "         'Alderman': 1,\n",
       "         'Garner': 1,\n",
       "         'Henry': 10,\n",
       "         'Compo': 1,\n",
       "         'Troledge': 1,\n",
       "         'Norris': 2,\n",
       "         'Snider': 1,\n",
       "         'Marvin': 4,\n",
       "         'Maestas': 1,\n",
       "         'Curtis': 4,\n",
       "         'Tomlinson': 1,\n",
       "         'Rudolph': 2,\n",
       "         'Arroliga': 1,\n",
       "         'Dodd': 1,\n",
       "         'Pickard': 1,\n",
       "         'Lambrose': 1,\n",
       "         'Bertrand': 1,\n",
       "         'Yonas': 1,\n",
       "         'Alehegne': 1,\n",
       "         'Hober': 1,\n",
       "         'Soriano': 1,\n",
       "         'Kumi': 1,\n",
       "         'Dial': 2,\n",
       "         'Cruz': 5,\n",
       "         'Jr': 3,\n",
       "         'M.': 16,\n",
       "         'Rippley': 1,\n",
       "         'Cedric': 4,\n",
       "         'Maurice': 2,\n",
       "         'Shaw': 1,\n",
       "         'Arthur': 5,\n",
       "         'Bates': 1,\n",
       "         'Freddy': 2,\n",
       "         'Centeno': 1,\n",
       "         'Meyer': 2,\n",
       "         'Ramon': 5,\n",
       "         'Damiani': 1,\n",
       "         'Kelley': 3,\n",
       "         'Sully': 1,\n",
       "         'Lanier': 1,\n",
       "         'Harrison': 2,\n",
       "         'Lambert': 4,\n",
       "         \"La'vante\": 1,\n",
       "         'Trevon': 2,\n",
       "         'Wenceslao': 1,\n",
       "         'Delano': 1,\n",
       "         'Perry': 5,\n",
       "         'India': 2,\n",
       "         'Kager': 1,\n",
       "         'Yero': 1,\n",
       "         'Mohamed': 2,\n",
       "         'Ibrahim': 1,\n",
       "         'Verrett': 1,\n",
       "         'Casimero': 1,\n",
       "         'Casillas': 1,\n",
       "         'Tristan': 3,\n",
       "         'Vent': 1,\n",
       "         'Dustin': 2,\n",
       "         'Kuik': 1,\n",
       "         'Holman': 1,\n",
       "         'Perdue': 1,\n",
       "         'Chau': 1,\n",
       "         'Tian': 1,\n",
       "         'Foy': 1,\n",
       "         'Wilburly': 1,\n",
       "         'Reid': 2,\n",
       "         'Eddie': 4,\n",
       "         'Tapia': 2,\n",
       "         'T.': 5,\n",
       "         'Pfleghardt': 1,\n",
       "         'Derick': 1,\n",
       "         'Jack': 4,\n",
       "         'Stevens': 2,\n",
       "         'Hammen': 1,\n",
       "         ...})"
      ]
     },
     "execution_count": 37,
     "metadata": {
      "tags": []
     },
     "output_type": "execute_result"
    }
   ],
   "source": []
  },
  {
   "cell_type": "code",
   "execution_count": 877,
   "metadata": {},
   "outputs": [
    {
     "data": {
      "text/plain": [
       "[('Michael', 82),\n",
       " ('David', 53),\n",
       " ('James', 47),\n",
       " ('Robert', 44),\n",
       " ('Joseph', 43),\n",
       " ('Daniel', 40),\n",
       " ('William', 40),\n",
       " ('Lee', 37),\n",
       " ('John', 36),\n",
       " ('Christopher', 35),\n",
       " ('Richard', 33),\n",
       " ('Smith', 31),\n",
       " ('J.', 30),\n",
       " ('Johnson', 29),\n",
       " ('Joshua', 27)]"
      ]
     },
     "execution_count": 877,
     "metadata": {},
     "output_type": "execute_result"
    }
   ],
   "source": [
    "most = counted.most_common(15)\n",
    "most"
   ]
  },
  {
   "cell_type": "code",
   "execution_count": null,
   "metadata": {
    "colab": {
     "base_uri": "https://localhost:8080/"
    },
    "executionInfo": {
     "elapsed": 37,
     "status": "ok",
     "timestamp": 1622926985767,
     "user": {
      "displayName": "Thomas Rico",
      "photoUrl": "",
      "userId": "03459133432310094050"
     },
     "user_tz": -180
    },
    "id": "GBoBhIEs-G-Y",
    "outputId": "ebd3146a-472f-4044-daf4-67d0e1064845"
   },
   "outputs": [
    {
     "data": {
      "text/plain": [
       "[('Michael', 82),\n",
       " ('David', 53),\n",
       " ('James', 47),\n",
       " ('Robert', 44),\n",
       " ('Joseph', 43),\n",
       " ('Daniel', 40),\n",
       " ('William', 40),\n",
       " ('Lee', 37),\n",
       " ('John', 36),\n",
       " ('Christopher', 35),\n",
       " ('Richard', 33),\n",
       " ('Smith', 31),\n",
       " ('J.', 30),\n",
       " ('Johnson', 29),\n",
       " ('Joshua', 27)]"
      ]
     },
     "execution_count": 38,
     "metadata": {
      "tags": []
     },
     "output_type": "execute_result"
    }
   ],
   "source": []
  },
  {
   "cell_type": "code",
   "execution_count": 910,
   "metadata": {},
   "outputs": [
    {
     "data": {
      "text/html": [
       "<div>\n",
       "<style scoped>\n",
       "    .dataframe tbody tr th:only-of-type {\n",
       "        vertical-align: middle;\n",
       "    }\n",
       "\n",
       "    .dataframe tbody tr th {\n",
       "        vertical-align: top;\n",
       "    }\n",
       "\n",
       "    .dataframe thead th {\n",
       "        text-align: right;\n",
       "    }\n",
       "</style>\n",
       "<table border=\"1\" class=\"dataframe\">\n",
       "  <thead>\n",
       "    <tr style=\"text-align: right;\">\n",
       "      <th></th>\n",
       "      <th>name_or_surname_most_frequency</th>\n",
       "      <th>frequency</th>\n",
       "    </tr>\n",
       "  </thead>\n",
       "  <tbody>\n",
       "    <tr>\n",
       "      <th>0</th>\n",
       "      <td>Michael</td>\n",
       "      <td>82</td>\n",
       "    </tr>\n",
       "    <tr>\n",
       "      <th>1</th>\n",
       "      <td>David</td>\n",
       "      <td>53</td>\n",
       "    </tr>\n",
       "    <tr>\n",
       "      <th>2</th>\n",
       "      <td>James</td>\n",
       "      <td>47</td>\n",
       "    </tr>\n",
       "    <tr>\n",
       "      <th>3</th>\n",
       "      <td>Robert</td>\n",
       "      <td>44</td>\n",
       "    </tr>\n",
       "    <tr>\n",
       "      <th>4</th>\n",
       "      <td>Joseph</td>\n",
       "      <td>43</td>\n",
       "    </tr>\n",
       "    <tr>\n",
       "      <th>5</th>\n",
       "      <td>Daniel</td>\n",
       "      <td>40</td>\n",
       "    </tr>\n",
       "    <tr>\n",
       "      <th>6</th>\n",
       "      <td>William</td>\n",
       "      <td>40</td>\n",
       "    </tr>\n",
       "    <tr>\n",
       "      <th>7</th>\n",
       "      <td>Lee</td>\n",
       "      <td>37</td>\n",
       "    </tr>\n",
       "    <tr>\n",
       "      <th>8</th>\n",
       "      <td>John</td>\n",
       "      <td>36</td>\n",
       "    </tr>\n",
       "    <tr>\n",
       "      <th>9</th>\n",
       "      <td>Christopher</td>\n",
       "      <td>35</td>\n",
       "    </tr>\n",
       "    <tr>\n",
       "      <th>10</th>\n",
       "      <td>Richard</td>\n",
       "      <td>33</td>\n",
       "    </tr>\n",
       "    <tr>\n",
       "      <th>11</th>\n",
       "      <td>Smith</td>\n",
       "      <td>31</td>\n",
       "    </tr>\n",
       "    <tr>\n",
       "      <th>12</th>\n",
       "      <td>J.</td>\n",
       "      <td>30</td>\n",
       "    </tr>\n",
       "    <tr>\n",
       "      <th>13</th>\n",
       "      <td>Johnson</td>\n",
       "      <td>29</td>\n",
       "    </tr>\n",
       "    <tr>\n",
       "      <th>14</th>\n",
       "      <td>Joshua</td>\n",
       "      <td>27</td>\n",
       "    </tr>\n",
       "  </tbody>\n",
       "</table>\n",
       "</div>"
      ],
      "text/plain": [
       "   name_or_surname_most_frequency  frequency\n",
       "0                         Michael         82\n",
       "1                           David         53\n",
       "2                           James         47\n",
       "3                          Robert         44\n",
       "4                          Joseph         43\n",
       "5                          Daniel         40\n",
       "6                         William         40\n",
       "7                             Lee         37\n",
       "8                            John         36\n",
       "9                     Christopher         35\n",
       "10                        Richard         33\n",
       "11                          Smith         31\n",
       "12                             J.         30\n",
       "13                        Johnson         29\n",
       "14                         Joshua         27"
      ]
     },
     "execution_count": 910,
     "metadata": {},
     "output_type": "execute_result"
    }
   ],
   "source": [
    "dict_most = dict(most)\n",
    "new_series = pd.Series(dict_most)\n",
    "new_df = pd.DataFrame(new_series)\n",
    "new_df.reset_index(inplace=True)\n",
    "new_df[\"name_or_surname_most_frequency\"] = new_df[\"index\"]\n",
    "new_df[\"frequency\"] = new_df[0]\n",
    "new_df.drop(columns=\"index\", inplace=True)\n",
    "new_df.drop(columns=0, inplace=True)\n",
    "new_df"
   ]
  },
  {
   "cell_type": "code",
   "execution_count": null,
   "metadata": {},
   "outputs": [],
   "source": []
  },
  {
   "cell_type": "code",
   "execution_count": null,
   "metadata": {},
   "outputs": [],
   "source": []
  },
  {
   "cell_type": "code",
   "execution_count": 921,
   "metadata": {},
   "outputs": [
    {
     "data": {
      "image/png": "[encoded data removed]",
      "text/plain": [
       "<Figure size 1080x576 with 1 Axes>"
      ]
     },
     "metadata": {
      "needs_background": "light"
     },
     "output_type": "display_data"
    }
   ],
   "source": [
    "name_plot = new_df.plot(x = \"name_or_surname_most_frequency\",xlabel=\"Names or Surnames\", ylabel=\"frequency\",kind=\"bar\",figsize=(15,8))\n",
    "plt.title(\"Most common Name OR Surname of killed people\")\n",
    "plt.xticks(rotation=45)\n",
    "for i in name_plot.patches:\n",
    "    name_plot.annotate((i.get_height()), (i.get_x()+0.1, i.get_height()+1));"
   ]
  },
  {
   "cell_type": "code",
   "execution_count": 912,
   "metadata": {
    "colab": {
     "base_uri": "https://localhost:8080/",
     "height": 551
    },
    "executionInfo": {
     "elapsed": 6,
     "status": "ok",
     "timestamp": 1622926986331,
     "user": {
      "displayName": "Thomas Rico",
      "photoUrl": "",
      "userId": "03459133432310094050"
     },
     "user_tz": -180
    },
    "id": "JnbSBMEF-G-Y",
    "outputId": "a4f5bcc6-22d9-4348-ef8b-18040a4c5723"
   },
   "outputs": [],
   "source": [
    "# with pandas\n"
   ]
  },
  {
   "cell_type": "code",
   "execution_count": 931,
   "metadata": {},
   "outputs": [
    {
     "data": {
      "image/png": "[encoded data removed]",
      "text/plain": [
       "<Figure size 1080x576 with 1 Axes>"
      ]
     },
     "metadata": {
      "needs_background": "light"
     },
     "output_type": "display_data"
    }
   ],
   "source": [
    "unique_name = new_df[\"name_or_surname_most_frequency\"].unique()\n",
    "count_name = new_df[\"frequency\"]\n",
    "fig, ax = plt.subplots(figsize=(15,8))\n",
    "counted_plot=ax.bar(unique_name,count_name)\n",
    "plt.xlabel(\"Names or Surnames\")\n",
    "plt.ylabel(\"frequency\")\n",
    "plt.title(\"Most common Name OR Surname of killed people\")\n",
    "plt.xticks(rotation=45)\n",
    "for i in counted_plot.patches:\n",
    "    height = i.get_height()\n",
    "    ax.text(i.get_x() + i.get_width()/2., 1*height,'%d' % int(height), ha='center', va='bottom');"
   ]
  },
  {
   "cell_type": "code",
   "execution_count": null,
   "metadata": {
    "colab": {
     "base_uri": "https://localhost:8080/",
     "height": 551
    },
    "executionInfo": {
     "elapsed": 363,
     "status": "ok",
     "timestamp": 1622926986690,
     "user": {
      "displayName": "Thomas Rico",
      "photoUrl": "",
      "userId": "03459133432310094050"
     },
     "user_tz": -180
    },
    "id": "MPq2DiUJ-G-Y",
    "outputId": "4c0e61c5-9734-41a6-e4e8-f5c424e7519d"
   },
   "outputs": [
    {
     "data": {
      "image/png": "[encoded data removed]",
      "text/plain": [
       "<Figure size 1080x576 with 1 Axes>"
      ]
     },
     "metadata": {
      "needs_background": "light",
      "tags": []
     },
     "output_type": "display_data"
    }
   ],
   "source": [
    "# with matplotlib\n"
   ]
  },
  {
   "cell_type": "code",
   "execution_count": null,
   "metadata": {
    "id": "tRAjYkN_MqkZ"
   },
   "outputs": [],
   "source": []
  }
 ],
 "metadata": {
  "colab": {
   "collapsed_sections": [],
   "name": "Assignment-1 student.ipynb",
   "provenance": [],
   "toc_visible": true
  },
  "kernelspec": {
   "display_name": "Python 3",
   "language": "python",
   "name": "python3"
  },
  "language_info": {
   "codemirror_mode": {
    "name": "ipython",
    "version": 3
   },
   "file_extension": ".py",
   "mimetype": "text/x-python",
   "name": "python",
   "nbconvert_exporter": "python",
   "pygments_lexer": "ipython3",
   "version": "3.8.8"
  }
 },
 "nbformat": 4,
 "nbformat_minor": 1
}

{
 "cells": [
  {
   "cell_type": "markdown",
   "id": "1fdc3d03",
   "metadata": {},
   "source": [
    "**Q1. We want to know the index of the vowels in a given word, for example, there are two vowels in the word super (the second and fourth letters).\n",
    "So given a string \"super\", we should return a list of [2, 4].**"
   ]
  },
  {
   "cell_type": "code",
   "execution_count": 51,
   "id": "6d36a465",
   "metadata": {},
   "outputs": [],
   "source": [
    "def vowel_indices(word):\n",
    "    list = []\n",
    "    count = 0\n",
    "    vowels = [\"a\",\"e\",\"i\",\"o\",\"u\",\"ü\",\"ı\",\"ö\"]\n",
    "    for i in word:\n",
    "        count += 1\n",
    "        for j in vowels:\n",
    "            if i.lower() == j:\n",
    "                list.append(count)\n",
    "    print(list)"
   ]
  },
  {
   "cell_type": "code",
   "execution_count": 52,
   "id": "5f4da718",
   "metadata": {},
   "outputs": [
    {
     "name": "stdout",
     "output_type": "stream",
     "text": [
      "[2, 4, 8, 10, 14, 16]\n"
     ]
    }
   ],
   "source": [
    "vowel_indices(\"super super super\")"
   ]
  },
  {
   "cell_type": "code",
   "execution_count": 34,
   "id": "62536133",
   "metadata": {},
   "outputs": [],
   "source": [
    "#inputString = str(input(\"Please type a sentence: \"))"
   ]
  },
  {
   "cell_type": "markdown",
   "id": "b02e24e9",
   "metadata": {},
   "source": [
    "**Q2.Write a function that takes an integer as input, and returns the number of bits that are equal to one in the binary representation of that number. You can guarantee that input is non-negative.**\n",
    "\n",
    "***Example: The binary representation of 1234 is 10011010010, so the function should return 5 in this case***\n"
   ]
  },
  {
   "cell_type": "code",
   "execution_count": 119,
   "id": "3e9e9240",
   "metadata": {},
   "outputs": [],
   "source": [
    "def count_bits(n):\n",
    "    count = 0\n",
    "    liste = []\n",
    "    a=n*2\n",
    "    while a > 1.0:\n",
    "        a = a//2\n",
    "        count = count + 1\n",
    "        if a%2 == 0:\n",
    "            liste.append(\"0\")\n",
    "        else:\n",
    "            liste.append(\"1\")\n",
    "    print(''.join(liste[::-1]))"
   ]
  },
  {
   "cell_type": "code",
   "execution_count": 122,
   "id": "11e9b92d",
   "metadata": {},
   "outputs": [
    {
     "name": "stdout",
     "output_type": "stream",
     "text": [
      "1010110110011\n"
     ]
    }
   ],
   "source": [
    "count_bits(5555)\n",
    "#1010110110011"
   ]
  },
  {
   "cell_type": "markdown",
   "id": "3ad54860",
   "metadata": {},
   "source": [
    "**Q3. Create a function that will take any amount of money and break it down to the smallest number of bills as possible. Only integer amounts will be input, NO floats. This function should output a sequence, where each element in the array represents the amount of a certain bill type. The array will be set up in this manner:**\n",
    "\n",
    "array[0] ---> represents $1 bills\n",
    "\n",
    "array[1] ---> represents $5 bills\n",
    "\n",
    "array[2] ---> represents $10 bills\n",
    "\n",
    "array[3] ---> represents $20 bills\n",
    "\n",
    "array[4] ---> represents $50 bills\n",
    "\n",
    "array[5] ---> represents $100 bills\n",
    "\n",
    "In the case below, we broke up 365 into 1 5 bill, 1 10 bill, 1 50 bill, and 3 100 bills.\n",
    "\n",
    "give_change(365) # =>  (0,1,1,0,1,3)\n"
   ]
  },
  {
   "cell_type": "code",
   "execution_count": 242,
   "id": "6735780d",
   "metadata": {},
   "outputs": [],
   "source": [
    "def give_change(amount):\n",
    "    if type(amount) != float and type(amount) != str:\n",
    "        a = amount//100\n",
    "        b = amount%100//50\n",
    "        c = amount%100%50//20\n",
    "        d = amount%100%50%20//10\n",
    "        e = amount%100%10//5\n",
    "        f = amount%5\n",
    "        liste = [f,e,d,c,b,a]\n",
    "    else:\n",
    "        print(\"You should enter a valid int number\")\n",
    "\n",
    "    print(\" {0} $1 bills \\n {1} $5 bills \\n {2} $10 bills \\n {3} $20 bills \\n {4} $50 bills \\n {5} $100 bills\".format(f,e,d,c,b,a))"
   ]
  },
  {
   "cell_type": "code",
   "execution_count": 250,
   "id": "a15855fe",
   "metadata": {},
   "outputs": [
    {
     "name": "stdout",
     "output_type": "stream",
     "text": [
      " 4 $1 bills \n",
      " 0 $5 bills \n",
      " 1 $10 bills \n",
      " 1 $20 bills \n",
      " 0 $50 bills \n",
      " 6 $100 bills\n"
     ]
    }
   ],
   "source": [
    "give_change(634)"
   ]
  },
  {
   "cell_type": "code",
   "execution_count": null,
   "id": "bfa19f02",
   "metadata": {},
   "outputs": [],
   "source": []
  },
  {
   "cell_type": "code",
   "execution_count": null,
   "id": "e43415a9",
   "metadata": {},
   "outputs": [],
   "source": []
  },
  {
   "cell_type": "code",
   "execution_count": null,
   "id": "c01a2906",
   "metadata": {},
   "outputs": [],
   "source": []
  },
  {
   "cell_type": "code",
   "execution_count": null,
   "id": "09d98d20",
   "metadata": {},
   "outputs": [],
   "source": []
  },
  {
   "cell_type": "code",
   "execution_count": null,
   "id": "5a34c654",
   "metadata": {},
   "outputs": [],
   "source": []
  },
  {
   "cell_type": "code",
   "execution_count": null,
   "id": "c6d0197f",
   "metadata": {},
   "outputs": [],
   "source": []
  },
  {
   "cell_type": "code",
   "execution_count": null,
   "id": "3d3affc2",
   "metadata": {},
   "outputs": [],
   "source": []
  }
 ],
 "metadata": {
  "kernelspec": {
   "display_name": "Python 3 (ipykernel)",
   "language": "python",
   "name": "python3"
  },
  "language_info": {
   "codemirror_mode": {
    "name": "ipython",
    "version": 3
   },
   "file_extension": ".py",
   "mimetype": "text/x-python",
   "name": "python",
   "nbconvert_exporter": "python",
   "pygments_lexer": "ipython3",
   "version": "3.8.8"
  }
 },
 "nbformat": 4,
 "nbformat_minor": 5
}
